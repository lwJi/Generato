{
 "cells": [
  {
   "cell_type": "code",
   "execution_count": 1,
   "id": "0dc3b4eb-b696-49e0-921f-8af61ccbe056",
   "metadata": {},
   "outputs": [
    {
     "name": "stdout",
     "output_type": "stream",
     "text": [
      "------------------------------------------------------------\n",
      "Package xAct`xPerm`  version 1.2.3, {2015, 8, 23}\n",
      "CopyRight (C) 2003-2020, Jose M. Martin-Garcia, under the General Public\\\n",
      " \n",
      ">   License.\n",
      "Connecting to external mac executable...\n",
      "Connection established.\n",
      "------------------------------------------------------------\n",
      "Package xAct`xTensor`  version 1.2.0, {2021, 10, 17}\n",
      "CopyRight (C) 2002-2021, Jose M. Martin-Garcia, under the General Public\\\n",
      " \n",
      ">   License.\n",
      "------------------------------------------------------------\n",
      "These packages come with ABSOLUTELY NO WARRANTY; for details type\\\n",
      " \n",
      ">   Disclaimer[]. This is free software, and you are welcome to redistribute\\\n",
      " \n",
      ">   it under certain conditions. See the General Public License for details.\n",
      "------------------------------------------------------------\n",
      "------------------------------------------------------------\n",
      "Package xAct`xCoba`  version 0.8.6, {2021, 2, 28}\n",
      "CopyRight (C) 2005-2021, David Yllanes and Jose M. Martin-Garcia, under the\\\n",
      " \n",
      ">   General Public License.\n",
      "------------------------------------------------------------\n",
      "These packages come with ABSOLUTELY NO WARRANTY; for details type\\\n",
      " \n",
      ">   Disclaimer[]. This is free software, and you are welcome to redistribute\\\n",
      " \n",
      ">   it under certain conditions. See the General Public License for details.\n",
      "------------------------------------------------------------\n",
      "------------------------------------------------------------\n",
      "Package Generato`Basic`, {2024, 1, 11}\n",
      "------------------------------------------------------------\n",
      "------------------------------------------------------------\n",
      "Package Generato`Component`, {2024, 1, 11}\n",
      "------------------------------------------------------------\n",
      "------------------------------------------------------------\n",
      "Package Generato`Varlist`, {2024, 1, 11}\n",
      "------------------------------------------------------------\n",
      "------------------------------------------------------------\n",
      "Package Generato`Interface`, {2024, 1, 11}\n",
      "------------------------------------------------------------\n",
      "\n"
     ]
    }
   ],
   "source": [
    "<<../../src/Generato.wl"
   ]
  },
  {
   "cell_type": "markdown",
   "id": "9613c2e2-5e07-4fe8-a0e1-169edfd6bf82",
   "metadata": {},
   "source": [
    "## Setup"
   ]
  },
  {
   "cell_type": "code",
   "execution_count": 2,
   "id": "285a46b3-c7e0-450d-a5aa-bb7b79485235",
   "metadata": {},
   "outputs": [],
   "source": [
    "SetPVerbose[False];\n",
    "SetPrintDate[False];\n",
    "SetGridPointIndex[\"[[ijk]]\"];\n",
    "DefManifold[M4, 4, Union[Complement[IndexRange[a, z], {g}], Table[ToExpression[\"h\" <> ToString[i]], {i, 1, 9}], Table[ToExpression[\"z\" <> ToString[i]], {i, 1, 9}]]];\n",
    "DefChart[cart, M4, {0, 1, 2, 3}, {T[], X[], Y[], Z[]}, ChartColor -> Green];"
   ]
  },
  {
   "cell_type": "markdown",
   "id": "89e4f81f-3d34-4b38-83f8-3ef8e44408a4",
   "metadata": {},
   "source": [
    "## Grid and Temporary Functions"
   ]
  },
  {
   "cell_type": "code",
   "execution_count": 7,
   "id": "59ee85bf-6da3-4420-b3fb-26b73cb86737",
   "metadata": {},
   "outputs": [],
   "source": [
    "dtEvolVarlist = GridTensors[\n",
    "    {dtg[-a, -b], Symmetric[{-a, -b}]},\n",
    "    {dtPi[-a, -b], Symmetric[{-a, -b}], PrintAs -> \"dt\\[CapitalPi]\"},\n",
    "    {dtPhi[-k, -a, -b], Symmetric[{-a, -b}], PrintAs -> \"dt\\[CapitalPhi]\"}\n",
    "];\n",
    "EvolVarlist = GridTensors[\n",
    "    {g[-a, -b], Symmetric[{-a, -b}]},\n",
    "    {Pi$Upt[-a, -b], Symmetric[{-a, -b}], PrintAs -> \"\\[CapitalPi]\"},\n",
    "    {Phi[-k, -a, -b], Symmetric[{-a, -b}], PrintAs -> \"\\[CapitalPhi]\"},\n",
    "    {H[-a]}\n",
    "];\n",
    "MoreInVarlist = GridTensors[\n",
    "    {Adg[-a, -b], Symmetric[{-a, -b}]},\n",
    "    {AdPi[-a, -b], Symmetric[{-a, -b}], PrintAs -> \"Ad\\[CapitalPi]\"},\n",
    "    {AdPhi[-k, -a, -b], Symmetric[{-a, -b}], PrintAs -> \"Ad\\[CapitalPhi]\"},\n",
    "    {alpha[], PrintAs -> \"\\[Alpha]\"},\n",
    "    {beta[i], PrintAs -> \"\\[Beta]\"},\n",
    "    {srcSdH[-a, -b], Symmetric[{-a, -b}], PrintAs -> \"\\!\\(\\*SubscriptBox[\\(\\[PartialD]\\), \\((a\\)]\\)\\!\\(\\*SubscriptBox[\\(H\\), \\(\\(b\\)\\()\\)\\)]\\)\"}\n",
    "];\n",
    "TempVarlist = TempTensors[\n",
    "    {detinvh[], PrintAs -> \"\\[Gamma]\"},\n",
    "    {invh[i, j], Symmetric[{i, j}], PrintAs -> \"\\[Gamma]\"},\n",
    "    {nvec[a], PrintAs -> \"n\"},\n",
    "    {ndua[-a], PrintAs -> \"n\"},\n",
    "    {invg[a, b], Symmetric[{a, b}], PrintAs -> \"g\"},\n",
    "    {dginFO[-c, -a, -b], Symmetric[{-a, -b}], PrintAs -> \"dg\"},\n",
    "    {Gam[-c, -a, -b], Symmetric[{-a, -b}], PrintAs -> \"\\[CapitalGamma]\"},\n",
    "    {trGam[-a], PrintAs -> \"\\[CapitalGamma]\"}\n",
    "];"
   ]
  },
  {
   "cell_type": "markdown",
   "id": "54bdbeb4-a79e-4676-8ced-52f366f99c11",
   "metadata": {},
   "source": [
    "## Constants"
   ]
  },
  {
   "cell_type": "code",
   "execution_count": 11,
   "id": "7bce9ca9-ce46-46a6-bfc1-76a426389fdd",
   "metadata": {},
   "outputs": [],
   "source": [
    "DefConstantSymbol[gamma0, PrintAs -> \"\\!\\(\\*SubscriptBox[\\(\\[Gamma]\\), \\(0\\)]\\)\"];\n",
    "DefConstantSymbol[gamma1, PrintAs -> \"\\!\\(\\*SubscriptBox[\\(\\[Gamma]\\), \\(1\\)]\\)\"];\n",
    "DefConstantSymbol[gamma2, PrintAs -> \"\\!\\(\\*SubscriptBox[\\(\\[Gamma]\\), \\(2\\)]\\)\"];\n",
    "DefConstantSymbol[interior, PrintAs -> \"I\"];"
   ]
  },
  {
   "cell_type": "markdown",
   "id": "b61fc591-5fc0-4e4c-8f09-b1fb26f06a4c",
   "metadata": {},
   "source": [
    "## Equations"
   ]
  },
  {
   "cell_type": "code",
   "execution_count": 15,
   "id": "fd95b328-a9df-4111-ab84-209b7b2fa1c2",
   "metadata": {},
   "outputs": [],
   "source": [
    "Module[{Mat, invMat},\n",
    "    Mat = Table[g[{aa, -cart}, {bb, -cart}] // ToValues, {aa, 1, 3}, {bb, 1, 3}];\n",
    "    invMat = Inverse[Mat] /. {1 / Det[Mat] -> (detinvh[] // ToValues)};\n",
    "    SetEQNDelayed[detinvh[], 1 / Det[Mat] // Simplify];\n",
    "    SetEQNDelayed[invh[i_, j_],\n",
    "        If[IndexType[i, UpIndexQ] && IndexType[j, UpIndexQ],\n",
    "            If[i[[1]] > 0 && j[[1]] > 0, invMat[[i[[1]], j[[1]]]] // Simplify],\n",
    "            invh[i, j]\n",
    "        ]\n",
    "    ]\n",
    "];\n",
    "SetEQNDelayed[nvec[a_],\n",
    "    If[IndexType[a, UpIndexQ],\n",
    "        If[a[[1]] == 0, alpha[] ^ -1, -alpha[] ^ -1 beta[a]],\n",
    "        nvec[a]\n",
    "    ]\n",
    "];\n",
    "SetEQNDelayed[ndua[a_],\n",
    "    If[IndexType[a, DownIndexQ],\n",
    "        If[a[[1]] == 0, -alpha[], 0.0],\n",
    "        ndua[a]\n",
    "    ]\n",
    "];\n",
    "SetEQN[invg[a_, b_], invh[a, b] - nvec[a] nvec[b]];\n",
    "SetEQNDelayed[dginFO[c_, a_, b_],\n",
    "    If[IndexType[c, DownIndexQ] && IndexType[a, DownIndexQ] && IndexType[b, DownIndexQ],\n",
    "        If[c[[1]] == 0, -alpha[] Pi$Upt[a, b] + beta[k] Phi[-k, a, b], Phi[c, a, b]],\n",
    "        dginFO[c, a, b]\n",
    "    ]\n",
    "];\n",
    "SetEQN[Gam[c_, a_, b_], 1/2 (dginFO[a, b, c] + dginFO[b, c, a] - dginFO[c, a, b])];\n",
    "SetEQN[trGam[c_], invg[a, b] Gam[c, -a, -b]];\n",
    "\n",
    "SetEQN[dtg[a_, b_], -Adg[a, b] interior - alpha[] Pi$Upt[a, b] - gamma1\n",
    "     beta[c] Phi[-c, a, b]];\n",
    "SetEQN[dtPi[a_, b_], -AdPi[a, b] interior + 2 alpha[] invg[c, d] (invh[\n",
    "    i, j] Phi[-i, -c, a] Phi[-j, -d, b] - Pi$Upt[-c, a] Pi$Upt[-d, b] - invg[\n",
    "    e, f] Gam[a, -c, -e] Gam[b, -d, -f]) - 1/2 alpha[] nvec[c] nvec[d] Pi$Upt[\n",
    "    -c, -d] Pi$Upt[a, b] - alpha[] nvec[c] Pi$Upt[-c, -i] invh[i, j] Phi[\n",
    "    -j, a, b] + 2 alpha[] (invg[c, d] Gam[-c, a, b] H[-d]) + gamma0 alpha[\n",
    "    ] ((H[a] + trGam[a]) ndua[b] + (H[b] + trGam[b]) ndua[a] - g[a, b] nvec[\n",
    "    c] (H[-c] + trGam[-c])) - gamma1 gamma2 beta[i] Phi[-i, a, b] - srcSdH[\n",
    "    a, b]];\n",
    "SetEQN[dtPhi[i_, a_, b_], -AdPhi[i, a, b] interior + 1/2 alpha[] nvec[\n",
    "    c] nvec[d] Phi[i, -c, -d] Pi$Upt[a, b] + alpha[] invh[j, k] nvec[c] Phi[\n",
    "    i, -j, -c] Phi[-k, a, b] - gamma2 alpha[] Phi[i, a, b]];"
   ]
  },
  {
   "cell_type": "markdown",
   "id": "ea88286d-68bb-4799-af70-c9fd34cb4201",
   "metadata": {},
   "source": [
    "### Check expression"
   ]
  },
  {
   "cell_type": "code",
   "execution_count": 25,
   "id": "6dac33e1-2325-41b1-b15d-d210cd965756",
   "metadata": {},
   "outputs": [
    {
     "data": {
      "text/html": [
       "<div><img alt=\"Output\" src=\"data:image/png;base64,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\"></div>"
      ],
      "text/plain": [
       "-(interior Adg[-a, -b]) - gamma1 beta[c] Phi[-c, -a, -b] - alpha[] Pi$Upt[-a, -b]"
      ]
     },
     "execution_count": 25,
     "metadata": {
      "text/html": [],
      "text/plain": []
     },
     "output_type": "execute_result"
    }
   ],
   "source": [
    "dtg$RHS[-a, -b]"
   ]
  },
  {
   "cell_type": "code",
   "execution_count": 26,
   "id": "cb87bb31-849c-4417-9329-f40597c9650b",
   "metadata": {
    "tags": []
   },
   "outputs": [
    {
     "data": {
      "text/html": [
       "<div><img alt=\"Output\" src=\"data:image/png;base64,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\"></div>"
      ],
      "text/plain": [
       "-(interior AdPi[-a, -b]) + 2 alpha[] Gam[-c, -a, -b] H[-d] invg[c, d] - \n",
       " \n",
       ">   gamma1 gamma2 beta[c] Phi[-c, -a, -b] - \n",
       " \n",
       ">   alpha[] invh[d, e] nvec[c] Phi[-e, -a, -b] Pi$Upt[-c, -d] - \n",
       " \n",
       "    alpha[] nvec[c] nvec[d] Pi$Upt[-a, -b] Pi$Upt[-c, -d]\n",
       ">   ----------------------------------------------------- + \n",
       "                              2\n",
       " \n",
       ">   2 alpha[] invg[c, d] (-(Gam[-a, -c, -e] Gam[-b, -d, -f] invg[e, f]) + \n",
       " \n",
       ">      invh[h, h1] Phi[-h, -c, -a] Phi[-h1, -d, -b] - Pi$Upt[-c, -a] Pi$Upt[-d, -b]) - \n",
       " \n",
       ">   srcSdH[-a, -b] + gamma0 alpha[] \n",
       " \n",
       ">    (ndua[-b] (H[-a] + trGam[-a]) + ndua[-a] (H[-b] + trGam[-b]) - \n",
       " \n",
       ">      g[-a, -b] nvec[c] (H[-c] + trGam[-c]))"
      ]
     },
     "execution_count": 26,
     "metadata": {
      "text/html": [],
      "text/plain": []
     },
     "output_type": "execute_result"
    }
   ],
   "source": [
    "dtPi$RHS[-a, -b]"
   ]
  },
  {
   "cell_type": "code",
   "execution_count": 27,
   "id": "01c379f3-515e-4e21-b72b-e9178ee1d12f",
   "metadata": {},
   "outputs": [
    {
     "data": {
      "text/html": [
       "<div><img alt=\"Output\" src=\"data:image/png;base64,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\"></div>"
      ],
      "text/plain": [
       "-(interior AdPhi[-k, -a, -b]) - gamma2 alpha[] Phi[-k, -a, -b] + \n",
       " \n",
       ">   alpha[] invh[d, e] nvec[c] Phi[-e, -a, -b] Phi[-k, -d, -c] + \n",
       " \n",
       "    alpha[] nvec[c] nvec[d] Phi[-k, -c, -d] Pi$Upt[-a, -b]\n",
       ">   ------------------------------------------------------\n",
       "                              2"
      ]
     },
     "execution_count": 27,
     "metadata": {
      "text/html": [],
      "text/plain": []
     },
     "output_type": "execute_result"
    }
   ],
   "source": [
    "dtPhi$RHS[-k, -a, -b]"
   ]
  },
  {
   "cell_type": "markdown",
   "id": "dda21578-6585-4329-906d-5b85eeda49bb",
   "metadata": {},
   "source": [
    "## Write to files"
   ]
  },
  {
   "cell_type": "code",
   "execution_count": 28,
   "id": "08c8fe34-4bdb-4cea-b784-38e5cf70c246",
   "metadata": {},
   "outputs": [],
   "source": [
    "SetOutputFile[\"GHG_rhs.c\"];\n",
    "SetProject[\"GHG\"];"
   ]
  },
  {
   "cell_type": "code",
   "execution_count": 30,
   "id": "748d8843-a442-4ba5-b75d-0ecc4e7c100b",
   "metadata": {},
   "outputs": [],
   "source": [
    "$MainPrint[] :=\n",
    "    Module[{project = GetProject[]},\n",
    "        pr[\"#include \\\"nmesh.h\\\"\"];\n",
    "        pr[\"#include \\\"\" <> project <> \".h\\\"\"];\n",
    "        pr[];\n",
    "        pr[\"#define Power(x,y) (pow((double) (x),(double) (y)))\"];\n",
    "        pr[\"#define Log(x) log((double) (x))\"];\n",
    "        pr[\"#define pow2(x) ((x)*(x))\"];\n",
    "        pr[\"#define pow2inv(x) (1.0/((x)*(x)))\"];\n",
    "        pr[\"#define Cal(x,y,z) ((x)?(y):(z))\"];\n",
    "        pr[\"#define Sqrt(x) sqrt(x)\"];\n",
    "        pr[\"#define Abs(x) fabs(x)\"];\n",
    "        pr[];\n",
    "        pr[\"/* use globals from \" <> project <> \" */\"];\n",
    "        pr[\"extern t\" <> project <> \" \" <> project <> \"[1];\"];\n",
    "        pr[];\n",
    "        pr[];\n",
    "        pr[\"int GHG_rhs(tNode *node, tVarList *vlr, tVarList *vlu)\"];\n",
    "\n",
    "        pr[\"{\"];\n",
    "        pr[\"tMesh *mesh = node->pat->mesh;\"];\n",
    "        pr[\"int ialpha = Ind(\\\"ADM_alpha\\\");\"];\n",
    "        pr[\"int ibetax = Ind(\\\"ADM_betax\\\");\"];\n",
    "        pr[\"int iAdgtt = Ind(\\\"GHG_Adgtt\\\");\"];\n",
    "        pr[\"int iAdPitt = Ind(\\\"GHG_AdPitt\\\");\"];\n",
    "        pr[\"int iAdPhixtt = Ind(\\\"GHG_AdPhixtt\\\");\"];\n",
    "        pr[\"int isrcSdHtt = Ind(\\\"GHG_srcSdHtt\\\");\"];\n",
    "        pr[\"int fc[6];\"];\n",
    "        pr[\"int ijk;\"];\n",
    "        pr[];\n",
    "        PrintInitializations[{Mode -> \"MainOut\"}, dtEvolVarlist];\n",
    "        PrintInitializations[{Mode -> \"MainIn\"}, EvolVarlist];\n",
    "        PrintInitializations[{Mode -> \"MoreInOut\"}, MoreInVarlist];\n",
    "        pr[];\n",
    "        pr[\"TIMER_START;\"];\n",
    "        pr[];\n",
    "        pr[\"/* compute */\"];\n",
    "        pr[\"forpoints(node, ijk)\"];\n",
    "        pr[\"{\"];\n",
    "        (* parameters *)\n",
    "        pr[\"double interior = !(ind_on_nodeface(node, ijk, fc));\"];\n",
    "        pr[\"double gammas[3], gamma0, gamma1, gamma2;\"];\n",
    "        pr[\"GHG_gammas(node, ijk, gammas);\"];\n",
    "        pr[\"gamma0 = gammas[0];\"];\n",
    "        pr[\"gamma1 = gammas[1];\"];\n",
    "        pr[\"gamma2 = gammas[2];\"];\n",
    "        pr[];\n",
    "        PrintEquations[{Mode -> \"Temp\"}, TempVarlist];\n",
    "        pr[];\n",
    "        PrintEquations[{Mode -> \"Main\"}, dtEvolVarlist];\n",
    "        pr[\"} /* end of points */\"];\n",
    "        pr[];\n",
    "        pr[\"TIMER_STOP;\"];\n",
    "        pr[];\n",
    "        pr[\"return 0;\"];\n",
    "        pr[\"} /* end of function */\"];\n",
    "    ];"
   ]
  },
  {
   "cell_type": "code",
   "execution_count": 31,
   "id": "d5bc1555-b316-44a3-9bd5-5a031ba63f98",
   "metadata": {},
   "outputs": [
    {
     "name": "stdout",
     "output_type": "stream",
     "text": [
      "Writing to \"GHG_rhs.c\"...\n",
      "\n",
      "\"GHG_rhs.c\" already exist, replacing it ...\n",
      "\n",
      "Done generating \"GHG_rhs.c\"\n",
      "\n"
     ]
    }
   ],
   "source": [
    "<<../../codes/Nmesh.wl"
   ]
  }
 ],
 "metadata": {
  "kernelspec": {
   "display_name": "Wolfram Language 13.3",
   "language": "Wolfram Language",
   "name": "wolframlanguage13.3"
  },
  "language_info": {
   "codemirror_mode": "mathematica",
   "file_extension": ".m",
   "mimetype": "application/vnd.wolfram.m",
   "name": "Wolfram Language",
   "pygments_lexer": "mathematica",
   "version": "12.0"
  }
 },
 "nbformat": 4,
 "nbformat_minor": 5
}
