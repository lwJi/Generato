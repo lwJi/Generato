{
 "cells": [
  {
   "cell_type": "code",
   "execution_count": 1,
   "id": "0dc3b4eb-b696-49e0-921f-8af61ccbe056",
   "metadata": {},
   "outputs": [
    {
     "name": "stdout",
     "output_type": "stream",
     "text": [
      "------------------------------------------------------------\n",
      "Package xAct`xPerm`  version 1.2.3, {2015, 8, 23}\n",
      "CopyRight (C) 2003-2020, Jose M. Martin-Garcia, under the General Public\\\n",
      " \n",
      ">   License.\n",
      "Connecting to external mac executable...\n",
      "Connection established.\n",
      "------------------------------------------------------------\n",
      "Package xAct`xTensor`  version 1.2.0, {2021, 10, 17}\n",
      "CopyRight (C) 2002-2021, Jose M. Martin-Garcia, under the General Public\\\n",
      " \n",
      ">   License.\n",
      "------------------------------------------------------------\n",
      "These packages come with ABSOLUTELY NO WARRANTY; for details type\\\n",
      " \n",
      ">   Disclaimer[]. This is free software, and you are welcome to redistribute\\\n",
      " \n",
      ">   it under certain conditions. See the General Public License for details.\n",
      "------------------------------------------------------------\n",
      "------------------------------------------------------------\n",
      "Package xAct`xCoba`  version 0.8.6, {2021, 2, 28}\n",
      "CopyRight (C) 2005-2021, David Yllanes and Jose M. Martin-Garcia, under the\\\n",
      " \n",
      ">   General Public License.\n",
      "------------------------------------------------------------\n",
      "These packages come with ABSOLUTELY NO WARRANTY; for details type\\\n",
      " \n",
      ">   Disclaimer[]. This is free software, and you are welcome to redistribute\\\n",
      " \n",
      ">   it under certain conditions. See the General Public License for details.\n",
      "------------------------------------------------------------\n",
      "------------------------------------------------------------\n",
      "Package Generato`Basic`, {2024, 1, 11}\n",
      "------------------------------------------------------------\n",
      "------------------------------------------------------------\n",
      "Package Generato`Component`, {2024, 1, 11}\n",
      "------------------------------------------------------------\n",
      "------------------------------------------------------------\n",
      "Package Generato`Varlist`, {2024, 1, 11}\n",
      "------------------------------------------------------------\n",
      "------------------------------------------------------------\n",
      "Package Generato`Interface`, {2024, 1, 11}\n",
      "------------------------------------------------------------\n",
      "\n"
     ]
    }
   ],
   "source": [
    "<<../../src/Generato.wl"
   ]
  },
  {
   "cell_type": "markdown",
   "id": "9613c2e2-5e07-4fe8-a0e1-169edfd6bf82",
   "metadata": {},
   "source": [
    "## Setup"
   ]
  },
  {
   "cell_type": "code",
   "execution_count": 2,
   "id": "285a46b3-c7e0-450d-a5aa-bb7b79485235",
   "metadata": {},
   "outputs": [],
   "source": [
    "SetPVerbose[False];\n",
    "SetPrintDate[False];\n",
    "SetGridPointIndex[\"[[ijk]]\"];\n",
    "DefManifold[M4, 4, Union[Complement[IndexRange[a, z], {g}], Table[ToExpression[\"h\" <> ToString[i]], {i, 1, 9}], Table[ToExpression[\"z\" <> ToString[i]], {i, 1, 9}]]];\n",
    "DefChart[cart, M4, {0, 1, 2, 3}, {T[], X[], Y[], Z[]}, ChartColor -> Green];"
   ]
  },
  {
   "cell_type": "markdown",
   "id": "89e4f81f-3d34-4b38-83f8-3ef8e44408a4",
   "metadata": {},
   "source": [
    "## Grid and Temporary Functions"
   ]
  },
  {
   "cell_type": "code",
   "execution_count": 7,
   "id": "59ee85bf-6da3-4420-b3fb-26b73cb86737",
   "metadata": {},
   "outputs": [],
   "source": [
    "dtEvolVarlist = GridTensors[\n",
    "    {dtg[-a, -b], Symmetric[{-a, -b}]},\n",
    "    {dtPi[-a, -b], Symmetric[{-a, -b}], PrintAs -> \"dt\\[CapitalPi]\"},\n",
    "    {dtPhi[-k, -a, -b], Symmetric[{-a, -b}], PrintAs -> \"dt\\[CapitalPhi]\"}\n",
    "];\n",
    "EvolVarlist = GridTensors[\n",
    "    {g[-a, -b], Symmetric[{-a, -b}]},\n",
    "    {Pi$Upt[-a, -b], Symmetric[{-a, -b}], PrintAs -> \"\\[CapitalPi]\"},\n",
    "    {Phi[-k, -a, -b], Symmetric[{-a, -b}], PrintAs -> \"\\[CapitalPhi]\"},\n",
    "    {H[-a]}\n",
    "];\n",
    "MoreInVarlist = GridTensors[\n",
    "    {Adg[-a, -b], Symmetric[{-a, -b}]},\n",
    "    {AdPi[-a, -b], Symmetric[{-a, -b}], PrintAs -> \"Ad\\[CapitalPi]\"},\n",
    "    {AdPhi[-k, -a, -b], Symmetric[{-a, -b}], PrintAs -> \"Ad\\[CapitalPhi]\"},\n",
    "    {alpha[], PrintAs -> \"\\[Alpha]\"},\n",
    "    {beta[i], PrintAs -> \"\\[Beta]\"},\n",
    "    {srcSdH[-a, -b], Symmetric[{-a, -b}], PrintAs -> \"\\!\\(\\*SubscriptBox[\\(\\[PartialD]\\), \\((a\\)]\\)\\!\\(\\*SubscriptBox[\\(H\\), \\(\\(b\\)\\()\\)\\)]\\)\"}\n",
    "];\n",
    "TempVarlist = TempTensors[\n",
    "    {detinvh[], PrintAs -> \"\\[Gamma]\"},\n",
    "    {invh[i, j], Symmetric[{i, j}], PrintAs -> \"\\[Gamma]\"},\n",
    "    {nvec[a], PrintAs -> \"n\"},\n",
    "    {ndua[-a], PrintAs -> \"n\"},\n",
    "    {invg[a, b], Symmetric[{a, b}], PrintAs -> \"g\"},\n",
    "    {dginFO[-c, -a, -b], Symmetric[{-a, -b}], PrintAs -> \"dg\"},\n",
    "    {Gam[-c, -a, -b], Symmetric[{-a, -b}], PrintAs -> \"\\[CapitalGamma]\"},\n",
    "    {trGam[-a], PrintAs -> \"\\[CapitalGamma]\"}\n",
    "];"
   ]
  },
  {
   "cell_type": "markdown",
   "id": "54bdbeb4-a79e-4676-8ced-52f366f99c11",
   "metadata": {},
   "source": [
    "## Constants"
   ]
  },
  {
   "cell_type": "code",
   "execution_count": 11,
   "id": "7bce9ca9-ce46-46a6-bfc1-76a426389fdd",
   "metadata": {},
   "outputs": [],
   "source": [
    "DefConstantSymbol[gamma0, PrintAs -> \"\\!\\(\\*SubscriptBox[\\(\\[Gamma]\\), \\(0\\)]\\)\"];\n",
    "DefConstantSymbol[gamma1, PrintAs -> \"\\!\\(\\*SubscriptBox[\\(\\[Gamma]\\), \\(1\\)]\\)\"];\n",
    "DefConstantSymbol[gamma2, PrintAs -> \"\\!\\(\\*SubscriptBox[\\(\\[Gamma]\\), \\(2\\)]\\)\"];\n",
    "DefConstantSymbol[interior, PrintAs -> \"I\"];"
   ]
  },
  {
   "cell_type": "markdown",
   "id": "b61fc591-5fc0-4e4c-8f09-b1fb26f06a4c",
   "metadata": {},
   "source": [
    "## Equations"
   ]
  },
  {
   "cell_type": "code",
   "execution_count": 15,
   "id": "fd95b328-a9df-4111-ab84-209b7b2fa1c2",
   "metadata": {},
   "outputs": [],
   "source": [
    "Module[{Mat, invMat},\n",
    "    Mat = Table[g[{aa, -cart}, {bb, -cart}] // ToValues, {aa, 1, 3}, {bb, 1, 3}];\n",
    "    invMat = Inverse[Mat] /. {1 / Det[Mat] -> (detinvh[] // ToValues)};\n",
    "    SetEQNDelayed[detinvh[], 1 / Det[Mat] // Simplify];\n",
    "    SetEQNDelayed[invh[i_, j_], invMat[[i[[1]], j[[1]]]] // Simplify]\n",
    "];\n",
    "SetEQNDelayed[nvec[a_], If[a[[1]] == 0, alpha[] ^ -1, -alpha[] ^ -1 beta[a]]];\n",
    "SetEQNDelayed[ndua[a_], If[a[[1]] == 0, -alpha[], 0.0]];\n",
    "SetEQN[invg[a_, b_], invh[a, b] - nvec[a] nvec[b]];\n",
    "SetEQNDelayed[dginFO[c_, a_, b_], If[c[[1]] == 0, -alpha[] Pi$Upt[a, b] + beta[k] Phi[-k, a, b], Phi[c, a, b]]];\n",
    "SetEQN[Gam[c_, a_, b_], 1/2 (dginFO[a, b, c] + dginFO[b, c, a] - dginFO[c, a, b])];\n",
    "SetEQN[trGam[c_], invg[a, b] Gam[c, -a, -b]];\n",
    "\n",
    "SetEQN[dtg[a_, b_], -Adg[a, b] interior - alpha[] Pi$Upt[a, b] - gamma1\n",
    "     beta[c] Phi[-c, a, b]];\n",
    "SetEQN[dtPi[a_, b_], -AdPi[a, b] interior + 2 alpha[] invg[c, d] (invh[\n",
    "    i, j] Phi[-i, -c, a] Phi[-j, -d, b] - Pi$Upt[-c, a] Pi$Upt[-d, b] - invg[\n",
    "    e, f] Gam[a, -c, -e] Gam[b, -d, -f]) - 1/2 alpha[] nvec[c] nvec[d] Pi$Upt[\n",
    "    -c, -d] Pi$Upt[a, b] - alpha[] nvec[c] Pi$Upt[-c, -i] invh[i, j] Phi[\n",
    "    -j, a, b] + 2 alpha[] (invg[c, d] Gam[-c, a, b] H[-d]) + gamma0 alpha[\n",
    "    ] ((H[a] + trGam[a]) ndua[b] + (H[b] + trGam[b]) ndua[a] - g[a, b] nvec[\n",
    "    c] (H[-c] + trGam[-c])) - gamma1 gamma2 beta[i] Phi[-i, a, b] - srcSdH[\n",
    "    a, b]];\n",
    "SetEQN[dtPhi[i_, a_, b_], -AdPhi[i, a, b] interior + 1/2 alpha[] nvec[\n",
    "    c] nvec[d] Phi[i, -c, -d] Pi$Upt[a, b] + alpha[] invh[j, k] nvec[c] Phi[\n",
    "    i, -j, -c] Phi[-k, a, b] - gamma2 alpha[] Phi[i, a, b]];"
   ]
  },
  {
   "cell_type": "markdown",
   "id": "ea88286d-68bb-4799-af70-c9fd34cb4201",
   "metadata": {},
   "source": [
    "### Check expression"
   ]
  },
  {
   "cell_type": "code",
   "execution_count": 25,
   "id": "6dac33e1-2325-41b1-b15d-d210cd965756",
   "metadata": {},
   "outputs": [
    {
     "data": {
      "text/html": [
       "<div><img alt=\"Output\" src=\"data:image/png;base64,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\"></div>"
      ],
      "text/plain": [
       "-(interior Adg[-a, -b]) - gamma1 beta[c] Phi[-c, -a, -b] - alpha[] Pi$Upt[-a, -b]"
      ]
     },
     "execution_count": 25,
     "metadata": {
      "text/html": [],
      "text/plain": []
     },
     "output_type": "execute_result"
    }
   ],
   "source": [
    "dtg$RHS[-a, -b]"
   ]
  },
  {
   "cell_type": "code",
   "execution_count": 26,
   "id": "cb87bb31-849c-4417-9329-f40597c9650b",
   "metadata": {
    "tags": []
   },
   "outputs": [
    {
     "data": {
      "text/html": [
       "<div><img alt=\"Output\" src=\"data:image/png;base64,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\"></div>"
      ],
      "text/plain": [
       "-(interior AdPi[-a, -b]) + 2 alpha[] Gam[-c, -a, -b] H[-d] invg[c, d] - \n",
       " \n",
       ">   gamma1 gamma2 beta[c] Phi[-c, -a, -b] - \n",
       " \n",
       ">   alpha[] invh[d, e] nvec[c] Phi[-e, -a, -b] Pi$Upt[-c, -d] - \n",
       " \n",
       "    alpha[] nvec[c] nvec[d] Pi$Upt[-a, -b] Pi$Upt[-c, -d]\n",
       ">   ----------------------------------------------------- + \n",
       "                              2\n",
       " \n",
       ">   2 alpha[] invg[c, d] (-(Gam[-a, -c, -e] Gam[-b, -d, -f] invg[e, f]) + \n",
       " \n",
       ">      invh[h, h1] Phi[-h, -c, -a] Phi[-h1, -d, -b] - Pi$Upt[-c, -a] Pi$Upt[-d, -b]) - \n",
       " \n",
       ">   srcSdH[-a, -b] + gamma0 alpha[] \n",
       " \n",
       ">    (ndua[-b] (H[-a] + trGam[-a]) + ndua[-a] (H[-b] + trGam[-b]) - \n",
       " \n",
       ">      g[-a, -b] nvec[c] (H[-c] + trGam[-c]))"
      ]
     },
     "execution_count": 26,
     "metadata": {
      "text/html": [],
      "text/plain": []
     },
     "output_type": "execute_result"
    }
   ],
   "source": [
    "dtPi$RHS[-a, -b]"
   ]
  },
  {
   "cell_type": "code",
   "execution_count": 27,
   "id": "01c379f3-515e-4e21-b72b-e9178ee1d12f",
   "metadata": {},
   "outputs": [
    {
     "data": {
      "text/html": [
       "<div><img alt=\"Output\" src=\"data:image/png;base64,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\"></div>"
      ],
      "text/plain": [
       "-(interior AdPhi[-k, -a, -b]) - gamma2 alpha[] Phi[-k, -a, -b] + \n",
       " \n",
       ">   alpha[] invh[d, e] nvec[c] Phi[-e, -a, -b] Phi[-k, -d, -c] + \n",
       " \n",
       "    alpha[] nvec[c] nvec[d] Phi[-k, -c, -d] Pi$Upt[-a, -b]\n",
       ">   ------------------------------------------------------\n",
       "                              2"
      ]
     },
     "execution_count": 27,
     "metadata": {
      "text/html": [],
      "text/plain": []
     },
     "output_type": "execute_result"
    }
   ],
   "source": [
    "dtPhi$RHS[-k, -a, -b]"
   ]
  },
  {
   "cell_type": "markdown",
   "id": "dda21578-6585-4329-906d-5b85eeda49bb",
   "metadata": {},
   "source": [
    "## Write to files"
   ]
  },
  {
   "cell_type": "code",
   "execution_count": 28,
   "id": "08c8fe34-4bdb-4cea-b784-38e5cf70c246",
   "metadata": {},
   "outputs": [],
   "source": [
    "SetOutputFile[\"GHG_rhs.c\"];\n",
    "SetProject[\"GHG\"];"
   ]
  },
  {
   "cell_type": "code",
   "execution_count": 30,
   "id": "748d8843-a442-4ba5-b75d-0ecc4e7c100b",
   "metadata": {},
   "outputs": [],
   "source": [
    "$MainPrint[] :=\n",
    "    Module[{project = GetProject[]},\n",
    "        pr[\"#include \\\"nmesh.h\\\"\"];\n",
    "        pr[\"#include \\\"\" <> project <> \".h\\\"\"];\n",
    "        pr[];\n",
    "        pr[\"#define Power(x,y) (pow((double) (x),(double) (y)))\"];\n",
    "        pr[\"#define Log(x) log((double) (x))\"];\n",
    "        pr[\"#define pow2(x) ((x)*(x))\"];\n",
    "        pr[\"#define pow2inv(x) (1.0/((x)*(x)))\"];\n",
    "        pr[\"#define Cal(x,y,z) ((x)?(y):(z))\"];\n",
    "        pr[\"#define Sqrt(x) sqrt(x)\"];\n",
    "        pr[\"#define Abs(x) fabs(x)\"];\n",
    "        pr[];\n",
    "        pr[\"/* use globals from \" <> project <> \" */\"];\n",
    "        pr[\"extern t\" <> project <> \" \" <> project <> \"[1];\"];\n",
    "        pr[];\n",
    "        pr[];\n",
    "        pr[\"int GHG_rhs(tNode *node, tVarList *vlr, tVarList *vlu)\"];\n",
    "\n",
    "        pr[\"{\"];\n",
    "        pr[\"tMesh *mesh = node->pat->mesh;\"];\n",
    "        pr[\"int ialpha = Ind(\\\"ADM_alpha\\\");\"];\n",
    "        pr[\"int ibetax = Ind(\\\"ADM_betax\\\");\"];\n",
    "        pr[\"int iAdgtt = Ind(\\\"GHG_Adgtt\\\");\"];\n",
    "        pr[\"int iAdPitt = Ind(\\\"GHG_AdPitt\\\");\"];\n",
    "        pr[\"int iAdPhixtt = Ind(\\\"GHG_AdPhixtt\\\");\"];\n",
    "        pr[\"int isrcSdHtt = Ind(\\\"GHG_srcSdHtt\\\");\"];\n",
    "        pr[\"int fc[6];\"];\n",
    "        pr[\"int ijk;\"];\n",
    "        pr[];\n",
    "        PrintInitializations[{Mode -> \"MainOut\"}, dtEvolVarlist];\n",
    "        PrintInitializations[{Mode -> \"MainIn\"}, EvolVarlist];\n",
    "        PrintInitializations[{Mode -> \"MoreInOut\"}, MoreInVarlist];\n",
    "        pr[];\n",
    "        pr[\"TIMER_START;\"];\n",
    "        pr[];\n",
    "        pr[\"/* compute */\"];\n",
    "        pr[\"forpoints(node, ijk)\"];\n",
    "        pr[\"{\"];\n",
    "        (* parameters *)\n",
    "        pr[\"double interior = !(ind_on_nodeface(node, ijk, fc));\"];\n",
    "        pr[\"double gammas[3], gamma0, gamma1, gamma2;\"];\n",
    "        pr[\"GHG_gammas(node, ijk, gammas);\"];\n",
    "        pr[\"gamma0 = gammas[0];\"];\n",
    "        pr[\"gamma1 = gammas[1];\"];\n",
    "        pr[\"gamma2 = gammas[2];\"];\n",
    "        pr[];\n",
    "        PrintEquations[{Mode -> \"Temp\"}, TempVarlist];\n",
    "        pr[];\n",
    "        PrintEquations[{Mode -> \"Main\"}, dtEvolVarlist];\n",
    "        pr[\"} /* end of points */\"];\n",
    "        pr[];\n",
    "        pr[\"TIMER_STOP;\"];\n",
    "        pr[];\n",
    "        pr[\"return 0;\"];\n",
    "        pr[\"} /* end of function */\"];\n",
    "    ];"
   ]
  },
  {
   "cell_type": "code",
   "execution_count": 31,
   "id": "d5bc1555-b316-44a3-9bd5-5a031ba63f98",
   "metadata": {},
   "outputs": [
    {
     "name": "stdout",
     "output_type": "stream",
     "text": [
      "Writing to \"GHG_rhs.c\"...\n",
      "\n",
      "\"GHG_rhs.c\" already exist, replacing it ...\n",
      "\n",
      "Done generating \"GHG_rhs.c\"\n",
      "\n"
     ]
    }
   ],
   "source": [
    "<<../../codes/Nmesh.wl"
   ]
  }
 ],
 "metadata": {
  "kernelspec": {
   "display_name": "Wolfram Language 13.3",
   "language": "Wolfram Language",
   "name": "wolframlanguage13.3"
  },
  "language_info": {
   "codemirror_mode": "mathematica",
   "file_extension": ".m",
   "mimetype": "application/vnd.wolfram.m",
   "name": "Wolfram Language",
   "pygments_lexer": "mathematica",
   "version": "12.0"
  }
 },
 "nbformat": 4,
 "nbformat_minor": 5
}
