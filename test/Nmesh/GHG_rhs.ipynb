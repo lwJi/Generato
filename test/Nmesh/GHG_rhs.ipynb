{
 "cells": [
  {
   "cell_type": "code",
   "execution_count": 1,
   "id": "0dc3b4eb-b696-49e0-921f-8af61ccbe056",
   "metadata": {},
   "outputs": [
    {
     "name": "stdout",
     "output_type": "stream",
     "text": [
      "------------------------------------------------------------\n",
      "Package xAct`xPerm`  version 1.2.3, {2015, 8, 23}\n",
      "CopyRight (C) 2003-2020, Jose M. Martin-Garcia, under the General Public\\\n",
      " \n",
      ">   License.\n",
      "Connecting to external mac executable...\n",
      "Connection established.\n",
      "------------------------------------------------------------\n",
      "Package xAct`xTensor`  version 1.2.0, {2021, 10, 17}\n",
      "CopyRight (C) 2002-2021, Jose M. Martin-Garcia, under the General Public\\\n",
      " \n",
      ">   License.\n",
      "------------------------------------------------------------\n",
      "These packages come with ABSOLUTELY NO WARRANTY; for details type\\\n",
      " \n",
      ">   Disclaimer[]. This is free software, and you are welcome to redistribute\\\n",
      " \n",
      ">   it under certain conditions. See the General Public License for details.\n",
      "------------------------------------------------------------\n",
      "------------------------------------------------------------\n",
      "Package xAct`xCoba`  version 0.8.6, {2021, 2, 28}\n",
      "CopyRight (C) 2005-2021, David Yllanes and Jose M. Martin-Garcia, under the\\\n",
      " \n",
      ">   General Public License.\n",
      "------------------------------------------------------------\n",
      "These packages come with ABSOLUTELY NO WARRANTY; for details type\\\n",
      " \n",
      ">   Disclaimer[]. This is free software, and you are welcome to redistribute\\\n",
      " \n",
      ">   it under certain conditions. See the General Public License for details.\n",
      "------------------------------------------------------------\n",
      "------------------------------------------------------------\n",
      "Package Generato`Basic`, {2024, 1, 11}\n",
      "------------------------------------------------------------\n",
      "------------------------------------------------------------\n",
      "Package Generato`Component`, {2024, 1, 11}\n",
      "------------------------------------------------------------\n",
      "------------------------------------------------------------\n",
      "Package Generato`Varlist`, {2024, 1, 11}\n",
      "------------------------------------------------------------\n",
      "------------------------------------------------------------\n",
      "Package Generato`Interface`, {2024, 1, 11}\n",
      "------------------------------------------------------------\n",
      "\n"
     ]
    }
   ],
   "source": [
    "<<../../src/Generato.wl"
   ]
  },
  {
   "cell_type": "markdown",
   "id": "9613c2e2-5e07-4fe8-a0e1-169edfd6bf82",
   "metadata": {},
   "source": [
    "## Setup"
   ]
  },
  {
   "cell_type": "code",
   "execution_count": 2,
   "id": "285a46b3-c7e0-450d-a5aa-bb7b79485235",
   "metadata": {},
   "outputs": [],
   "source": [
    "SetPVerbose[False];\n",
    "SetPrintDate[False];\n",
    "SetGridPointIndex[\"[[ijk]]\"];\n",
    "DefManifold[M4, 4, Union[Complement[IndexRange[a, z], {g}], Table[ToExpression[\"h\" <> ToString[i]], {i, 1, 9}], Table[ToExpression[\"z\" <> ToString[i]], {i, 1, 9}]]];\n",
    "DefChart[cart, M4, {0, 1, 2, 3}, {T[], X[], Y[], Z[]}, ChartColor -> Green];"
   ]
  },
  {
   "cell_type": "markdown",
   "id": "89e4f81f-3d34-4b38-83f8-3ef8e44408a4",
   "metadata": {},
   "source": [
    "## Grid and Temporary Functions"
   ]
  },
  {
   "cell_type": "code",
   "execution_count": 7,
   "id": "59ee85bf-6da3-4420-b3fb-26b73cb86737",
   "metadata": {},
   "outputs": [],
   "source": [
    "dtEvolVarlist = GridTensors[\n",
    "    {dtg[-a, -b], Symmetric[{-a, -b}]},\n",
    "    {dtPi[-a, -b], Symmetric[{-a, -b}], PrintAs -> \"dt\\[CapitalPi]\"},\n",
    "    {dtPhi[-k, -a, -b], Symmetric[{-a, -b}], PrintAs -> \"dt\\[CapitalPhi]\"}\n",
    "];\n",
    "EvolVarlist = GridTensors[\n",
    "    {g[-a, -b], Symmetric[{-a, -b}]},\n",
    "    {Pi$Upt[-a, -b], Symmetric[{-a, -b}], PrintAs -> \"\\[CapitalPi]\"},\n",
    "    {Phi[-k, -a, -b], Symmetric[{-a, -b}], PrintAs -> \"\\[CapitalPhi]\"},\n",
    "    {H[-a]}\n",
    "];\n",
    "MoreInVarlist = GridTensors[\n",
    "    {Adg[-a, -b], Symmetric[{-a, -b}]},\n",
    "    {AdPi[-a, -b], Symmetric[{-a, -b}], PrintAs -> \"Ad\\[CapitalPi]\"},\n",
    "    {AdPhi[-k, -a, -b], Symmetric[{-a, -b}], PrintAs -> \"Ad\\[CapitalPhi]\"},\n",
    "    {alpha[], PrintAs -> \"\\[Alpha]\"},\n",
    "    {beta[i], PrintAs -> \"\\[Beta]\"},\n",
    "    {srcSdH[-a, -b], Symmetric[{-a, -b}], PrintAs -> \"\\!\\(\\*SubscriptBox[\\(\\[PartialD]\\), \\((a\\)]\\)\\!\\(\\*SubscriptBox[\\(H\\), \\(\\(b\\)\\()\\)\\)]\\)\"}\n",
    "];\n",
    "TempVarlist = TempTensors[\n",
    "    {detinvh[], PrintAs -> \"\\[Gamma]\"},\n",
    "    {invh[i, j], Symmetric[{i, j}], PrintAs -> \"\\[Gamma]\"},\n",
    "    {nvec[a], PrintAs -> \"n\"},\n",
    "    {ndua[-a], PrintAs -> \"n\"},\n",
    "    {invg[a, b], Symmetric[{a, b}], PrintAs -> \"g\"},\n",
    "    {dginFO[-c, -a, -b], Symmetric[{-a, -b}], PrintAs -> \"dg\"},\n",
    "    {Gam[-c, -a, -b], Symmetric[{-a, -b}], PrintAs -> \"\\[CapitalGamma]\"},\n",
    "    {trGam[-a], PrintAs -> \"\\[CapitalGamma]\"}\n",
    "];"
   ]
  },
  {
   "cell_type": "markdown",
   "id": "54bdbeb4-a79e-4676-8ced-52f366f99c11",
   "metadata": {},
   "source": [
    "## Constants"
   ]
  },
  {
   "cell_type": "code",
   "execution_count": 11,
   "id": "7bce9ca9-ce46-46a6-bfc1-76a426389fdd",
   "metadata": {},
   "outputs": [],
   "source": [
    "DefConstantSymbol[gamma0, PrintAs -> \"\\!\\(\\*SubscriptBox[\\(\\[Gamma]\\), \\(0\\)]\\)\"];\n",
    "DefConstantSymbol[gamma1, PrintAs -> \"\\!\\(\\*SubscriptBox[\\(\\[Gamma]\\), \\(1\\)]\\)\"];\n",
    "DefConstantSymbol[gamma2, PrintAs -> \"\\!\\(\\*SubscriptBox[\\(\\[Gamma]\\), \\(2\\)]\\)\"];\n",
    "DefConstantSymbol[interior, PrintAs -> \"I\"];"
   ]
  },
  {
   "cell_type": "markdown",
   "id": "b61fc591-5fc0-4e4c-8f09-b1fb26f06a4c",
   "metadata": {},
   "source": [
    "## Equations"
   ]
  },
  {
   "cell_type": "markdown",
   "id": "ba91bc7f-9be5-4cbc-82a5-ac71fd620e8f",
   "metadata": {},
   "source": [
    "$$\n",
    "\\begin{align*}\n",
    "(\\det{\\gamma})^{-1}\\, \\text{and} \\, \\gamma^{ij}\n",
    "\\end{align*}\n",
    "$$"
   ]
  },
  {
   "cell_type": "code",
   "execution_count": 15,
   "id": "77295603-877c-4dc8-a005-24cf2a41b231",
   "metadata": {},
   "outputs": [],
   "source": [
    "Module[{Mat, invMat},\n",
    "    Mat = Table[g[{aa, -cart}, {bb, -cart}] // ToValues, {aa, 1, 3}, {bb, 1, 3}];\n",
    "    invMat = Inverse[Mat] /. {1 / Det[Mat] -> (detinvh[] // ToValues)};\n",
    "    SetEQNDelayed[detinvh[], 1 / Det[Mat] // Simplify];\n",
    "    SetEQNDelayed[invh[i_, j_], invMat[[i[[1]], j[[1]]]] // Simplify]\n",
    "];"
   ]
  },
  {
   "cell_type": "markdown",
   "id": "f99c2dd0-ebeb-4743-9b4c-66b5d7f20184",
   "metadata": {},
   "source": [
    "$$\n",
    "\\begin{align*}\n",
    "n^a &=[\\alpha^{-1},-\\alpha^{-1}\\beta^i] \\\\\n",
    "n_a &= [-\\alpha, 0]\n",
    "\\end{align*}\n",
    "$$"
   ]
  },
  {
   "cell_type": "code",
   "execution_count": 16,
   "id": "8ad07485-428c-4fb5-82f2-ad80d2d85642",
   "metadata": {},
   "outputs": [],
   "source": [
    "SetEQNDelayed[nvec[a_], If[a[[1]] == 0, alpha[] ^ -1, -alpha[] ^ -1 beta[a]]];\n",
    "SetEQNDelayed[ndua[a_], If[a[[1]] == 0, -alpha[], 0.0]];"
   ]
  },
  {
   "cell_type": "markdown",
   "id": "aace8d92-d330-489b-9698-71cc78513e22",
   "metadata": {},
   "source": [
    "$$\n",
    "g^{ab}=\\gamma^{ab}-n^an^b\n",
    "$$"
   ]
  },
  {
   "cell_type": "code",
   "execution_count": 18,
   "id": "c158517b-1e96-4f33-ac8e-a606fa7bd472",
   "metadata": {},
   "outputs": [],
   "source": [
    "SetEQN[invg[a_, b_], invh[a, b] - nvec[a] nvec[b]];"
   ]
  },
  {
   "cell_type": "markdown",
   "id": "8298b409-294e-4d09-af1c-fab32b040654",
   "metadata": {},
   "source": [
    "$$\n",
    "\\begin{align*}\n",
    "    \\partial_tg_{ab} &= -\\alpha\\Pi_{ab}+\\beta^i\\Phi_{iab}\\\\\n",
    "    \\partial_ig_{ab} &= \\Phi_{iab}\n",
    "\\end{align*}\n",
    "$$"
   ]
  },
  {
   "cell_type": "code",
   "execution_count": 19,
   "id": "e0ab97fe-91eb-47c4-81bb-7d395403c152",
   "metadata": {},
   "outputs": [],
   "source": [
    "SetEQNDelayed[dginFO[c_, a_, b_],\n",
    "    If[c[[1]] == 0,\n",
    "        -alpha[] Pi$Upt[a, b] + beta[k] Phi[-k, a, b]\n",
    "        ,\n",
    "        Phi[c, a, b]\n",
    "    ]\n",
    "];"
   ]
  },
  {
   "cell_type": "markdown",
   "id": "c5abf7a4-4827-4d6e-ae41-3d8ccd732a8e",
   "metadata": {},
   "source": [
    "$$\n",
    "\\Gamma_{cab} = \\frac{1}{2}(\\partial_ag_{bc}+\\partial_bg_{ca}-\\partial_cg_{ab})\n",
    "$$"
   ]
  },
  {
   "cell_type": "code",
   "execution_count": 20,
   "id": "39ad598c-8997-4f97-8d63-d5fc46588611",
   "metadata": {},
   "outputs": [],
   "source": [
    "SetEQN[Gam[c_, a_, b_], 1/2 (dginFO[a, b, c] + dginFO[b, c, a] - dginFO[c, a, b])];"
   ]
  },
  {
   "cell_type": "markdown",
   "id": "33604530-43ce-41a1-8700-a5190d161449",
   "metadata": {},
   "source": [
    "$$\\Gamma_c = g^{ab}\\Gamma_{cab}$$"
   ]
  },
  {
   "cell_type": "code",
   "execution_count": 21,
   "id": "c8e530d2-5e73-41f3-a9ec-f8de3606fd69",
   "metadata": {},
   "outputs": [],
   "source": [
    "SetEQN[trGam[c_], invg[a, b] Gam[c, -a, -b]];"
   ]
  },
  {
   "cell_type": "markdown",
   "id": "5c0e7e61-63ae-420d-a095-3568ec16f9e2",
   "metadata": {},
   "source": [
    "$$\n",
    "\\begin{align*}\n",
    "\\partial_tg_{ab} &= ...\\\\\n",
    "\\partial_t\\Pi_{ab} &= ...\\\\\n",
    "\\partial_t\\Phi_{iab} &= ...\n",
    "\\end{align*}\n",
    "$$"
   ]
  },
  {
   "cell_type": "code",
   "execution_count": 22,
   "id": "fd95b328-a9df-4111-ab84-209b7b2fa1c2",
   "metadata": {},
   "outputs": [],
   "source": [
    "SetEQN[dtg[a_, b_], -Adg[a, b] interior - alpha[] Pi$Upt[a, b] - gamma1\n",
    "     beta[c] Phi[-c, a, b]];\n",
    "SetEQN[dtPi[a_, b_], -AdPi[a, b] interior + 2 alpha[] invg[c, d] (invh[\n",
    "    i, j] Phi[-i, -c, a] Phi[-j, -d, b] - Pi$Upt[-c, a] Pi$Upt[-d, b] - invg[\n",
    "    e, f] Gam[a, -c, -e] Gam[b, -d, -f]) - 1/2 alpha[] nvec[c] nvec[d] Pi$Upt[\n",
    "    -c, -d] Pi$Upt[a, b] - alpha[] nvec[c] Pi$Upt[-c, -i] invh[i, j] Phi[\n",
    "    -j, a, b] + 2 alpha[] (invg[c, d] Gam[-c, a, b] H[-d]) + gamma0 alpha[\n",
    "    ] ((H[a] + trGam[a]) ndua[b] + (H[b] + trGam[b]) ndua[a] - g[a, b] nvec[\n",
    "    c] (H[-c] + trGam[-c])) - gamma1 gamma2 beta[i] Phi[-i, a, b] - srcSdH[\n",
    "    a, b]];\n",
    "SetEQN[dtPhi[i_, a_, b_], -AdPhi[i, a, b] interior + 1/2 alpha[] nvec[\n",
    "    c] nvec[d] Phi[i, -c, -d] Pi$Upt[a, b] + alpha[] invh[j, k] nvec[c] Phi[\n",
    "    i, -j, -c] Phi[-k, a, b] - gamma2 alpha[] Phi[i, a, b]];"
   ]
  },
  {
   "cell_type": "markdown",
   "id": "ea88286d-68bb-4799-af70-c9fd34cb4201",
   "metadata": {},
   "source": [
    "### Check expression"
   ]
  },
  {
   "cell_type": "markdown",
   "id": "c280eb9b-b599-444b-ac54-152a0ab15692",
   "metadata": {},
   "source": [
    "Please check Eq.(35)-(37) on CQG. 23 (2006) S447-S462 for the expression of $\\partial_tg, \\partial_t\\Pi, \\partial_t\\Phi$"
   ]
  },
  {
   "cell_type": "code",
   "execution_count": 25,
   "id": "6dac33e1-2325-41b1-b15d-d210cd965756",
   "metadata": {},
   "outputs": [
    {
     "data": {
      "text/html": [
       "<div><img alt=\"Output\" src=\"data:image/png;base64,iVBORw0KGgoAAAANSUhEUgAAAYwAAAA4CAIAAABhd1jKAAAA0npUWHRSYXcgcHJvZmlsZSB0eXBlIGV4aWYAAHjabU/trcQgDPvPFDcC+cCBcWhLpdvgxr8EkE59epGIjeMEksbnfadXBFNOWqyiAdlDmzbuTmpesZBym3lJ52b01JPsJuoulV8BY+vHUzcs5PpnUOZFJF5wLrob9iDhpVNf92P7udf6GHQf94y9zKztr/97VzFGAZl6Vs5maM5rcuqAwrkYbpyAGwkXZz0dB8y8DRYO6dEYwcOe7pEgLlyxgsRR6Y7kmYQ5GCY3z0WUL6+W6Yl1vrYHXG4EVUJAAAAACXBIWXMAABYlAAAWJQFJUiTwAAAAPHRFWHRTb2Z0d2FyZQBDcmVhdGVkIHdpdGggdGhlIFdvbGZyYW0gTGFuZ3VhZ2UgOiB3d3cud29sZnJhbS5jb21coqaFAAAAIXRFWHRDcmVhdGlvbiBUaW1lADIwMjQ6MDE6MTIgMTY6MTc6NTTcFKSLAAAQy0lEQVR4nO3de1AT1xoA8I8ANiqiIKgkiJhEhvCoyFWgvnBsealExCqiqCMpaqcVGKpWoC0oMjx0BKSOUqv4LkYsogx2eFTEB9GAIEaCFYkIBBLEMIo8IiH3j+3NcHnEKHkseH5/4dnj2W9Pli+755xddGQyGSAIguAVQdsBIAiCKKKn7QBw6c0b1bc5YYLq2xxZlO9VzfSVOj5l5Y3W80ENvYqS1BCOHweBQJUNWlhAcLAqGxyJlOxVjfWVyj9l5Y3i80HVvYqS1BAEAqirU2WDurqqbG2EUrJXNdZXKv+UlTeKzwdV9ypKUgoFBYGZ2XAbaWqC48dVEc1ooaBXtdJXKvmUlfeJnA+q+91BSUohMzOwtNR2EKMO3noVb/GMDqrrVTS7hyAIrqEkhSAIrqEkhSAIrqEkhSAIrqEkhSAIrqEkhSAIrqEkhSAIrg1rnVRxcXF9fb2CCkuXLjXT5DI5BEFGnWElqeTk5KysLAUV/vrrL20lqZiYmMuXL1Op1MuXL2slAARBVGJYSYpOp7e0tGA/NzY28vl8AHBychozZgxWaG5uPpz27969i7Xp7u5uamr6Qf+3oaHh4cOH7969G04ACIJo3bCSVGxsrPznpKSksLAwALhx48a4ceOGGxcAAGzatOnZs2cAkJCQsHv3bpW0iahVfn5+eXn5kydPpk+fvmzZsrlz5xIIaNwTGRb8nkBlZWVYhgIAFoul3WCQ92ptbfXx8fHw8Lh+/TqBQLh+/bqLi8uMGTOeP3+u7dCQkQ2/DxhjiWnJkiVFRUVYwqJSqdoOaqRqaGgwMzPTVefrQYKCgkpLS+/fvz937lyspLKy0sHB4aeffjp37pz69ttPTEzMr7/+qqDCvXv3LD+Zx4l7enra2tpMTEw+uoXa2tovvvhCmZq+vr5Hjx796B0pgN8kdenSJQBgMpltbW0VFRUsFis8PFxBfYlE8ujRIyMjIwqFAgA6OjqK229ubq6trTU3N58+ffp7K+PT/v378/PzXV1d16xZY29vP1S127dvMxiM+Pj4rVu3qimS/Pz8rKys3NxceYYCgM8//9zT07OyslJNOx3U+vXrnZ2d5f/cvHnzqlWrfHx85CWfyHRzamrqpUuXysrKOjo6jIyMfH19Dx48OGnSJADYuHEjnU6PiIhQph0SiXT27FmxWLxu3bojR47QaLR+FZKTk8Vi8d69e8lksuoPAwBwm6Q4HA6fzycQCJ6enlVVVYqTVF1d3bZt24qKirq7uwHA1NQ0NDRUX19/qMYzMjLCw8PltyFjx46Vj/QDgL29/a3cXFUejNosW7ZMJBKdPXs2NjY2ICAgNjZ24ExFZmbmxo0b3dzcNm3apL5ITp486ezs7OXl1a+8t7dXw0mBSqX2veI2NDS0s7Nzd3fXZAza1dnZyWQyL168GBwcHBkZOXXq1MLCwsjIyKqqqjt37vB4vPPnzyt/bUskEt3d3V++fAkAixcvtrOz61chOzsbq6Piw+gDp0nq4sWLAODi4mJiYuLt7R0XF1dRUfH06dNZs2b1q3njxg1fX9+2tjYAIBAI48ePb2lpiYyMHKrlxMTEH3/8EQDIZLKjoyOPx6upqens7JRXeKPdV19/CEdHR0dHx8OHD58+fTo0NDQ/P7+wsJBOp8srnDx5MigoyM/P78yZM3p66vqsu7u7c3Nz9+zZ06+8oKCgoKDg2LFjatrvUGpra48dO1ZaWlpVVSUSicLCwlJTU21sbJYvXx4QEND3C2lUCg4OvnLlyuXLl+XXjw4ODmQy2d/fPzMzMysri06nr1u3TrtBfhA8DpzLZDLsXs/b2xsAnJ2dsfUHA4fPOzo6tmzZ0tbWpqurm5CQIBaLX79+zePxBn6lY2pqarD8tXr16qdPn169erW6ujokJAQApkyZIhKJZDJZRUWFWo9OHTZv3vz48eMpU6a4urpWV1djhQUFBdu2bfvmm2/OnTunvgwFAPfv33/9+vWKFSvkJU1NTXFxcatWrfLw8AgMDFTfrgdKSUmxsrIqKChgMBjp6emmpqZMJjM6OtrCwiIsLIxKpT558kST8WhYdXV1enr6zz//3PcOFwDWrl1LoVBSU1MvXrwYFRU1sqZc8RjrvXv3Xrx4Af9LUgQCYfny5TBYkjpw4EBdXR0AHD58ePfu3YaGhgBgbW2dm5vr6+s7sOXi4uKenh49Pb3jx4+PHTsWAHR1dQ8ePEgikUQikeKFqThHIpFyc3PHjh3LZDJlMhmPx/v66683bNiQlpbW74xsaWlhsViBgYEGBgaLFi0a/q7ZbPbEiROxG4HVq1dPmDCBRCJFRETExcXl5ORo8vfh5s2bO3fuTE5OfvDgQWhoqJeX16RJk2xtbf38/JKSkl68eGFhYeHu7t7V1aWxkDQsLi7OyMhox44d/coJBMLixYtv3bpla2u7Zs0arcT20f79gi0oKCguLlZQLywsDBt10wAsGdFoNFtbW6zEx8fn1KlTlZWV1dXV1tbW8pqFhYUAYGVltW3btn6NDDqjga1pMDMzMzIykhfq6enNmjVLIBA8evRI1YfyfirseRKJlJmZ6ezsnJiYmJaWZmtr+9tvvw2sdvLkSfmtWW9v70fE3A+bzXZycsImH8LDwzdv3szj8S5cuLBr1643b94onu5QrX379nl4eHz//feDbjU0NGSxWObm5hwORyXZWR2GeT6Ul5czGAwDA4OBm2bOnAkAUVFRI26a6N8kxefzb9++raDet99+q5kkJb/Xo1Ao8k/rs88+w35gsVi//PKLvDKXywWAxYsXKzm5Pnv2bAAQCARCoXDq1KlYYVdXF3aLZGVlpbLDUJpqe37evHkBAQF79uyxsLDIysoadPwlJCQEm+Yb5vMAcmw2m8lkYj9js3sMBmPnzp179+6NiIjQ1dXV2ELc5uZm7Op7KGQy2cDAoKamBrdJajjng0wmq6mpGXS8SSqVXrlyBQCWLVumkjg16d8kFRQUFBQUpN1QMCUlJQ0NDQCQl5eXl5fXb2vfJPXmzRuxWAwAJBJJycZdXV0NDAza29s3bNjwxx9/mJqadnR0bN++XSgU6unpffnll6o7DmWpvOex2bTo6OgpU6YMWoFIJBKJRFBilYYyXrx4IRAI+s76Y3R1dfft28flcmNjY3fs2IHdXKubra1taWmpggr19fXt7e3KnzCaN5zzQSQSdXZ2Tps2beCmo0ePlpeXA0Bra6uqvpw0BndjUti83rhx4/7z/7DLnMePH1dVVWE1x48fj11hKT8fN3Xq1LS0NAAoLCy0tLS0sbEhk8lnz54FgIMHD9rY2KjjiDRJIBCkpqYCAHZGagCbzQaAgUkKs3HjxtevX8vH8tWNwWAUFhYmJSUNurW7u3vTpk3m5uZLly7VTDwaZmxsTCAQHj582K+cy+WGh4djo7TYYoKRZViTPq2tra9evcJ+lj9p/PTpU/mze2Qy+YOe4+vt7c3MzAQAf3//33//ve+mly9fTps2TSqVslis6OhoACAQCDNnzqyurlZ+uWBnZye2HHnBggX19fU1NTVkMtnV1XXPnj0uLi7Kx4lbUVFRM2bMcHV11dgSSjabTaVSh1rTPHHiRFDRyJcyAgICysrKwsLCWCzW9u3b6XR6e3t7fX3933//XVpampKSIpFI8vLyFKyhG9H09fVnzpxZVFTUt1AoFDIYjBkzZqSlpf35559CoVBL0X28YV1JBQUFWf1PXFwcVujg4CAvvHXr1gc1eOfOHYFAAACrVq3qt8nExGTBggXw/3N82BhTYWFhv3UDra2tHA5nYPs5OTklJSVz5869fft2XV2dRCLh8/lXrlwZHRnq2bNn6enpUVFRFApFJBJpZqdsNltB73E4HB0dHU0O9iUlJZWUlFAolPj4+Pnz5wsEgvj4eD8/v2vXrn333Xd8Pn/OnDkaC0bzQkJCHj16lJ6eDgAymSwvL8/R0bGnpycnJ8fExIRGo6WlpXE4nDpt/d3mjzKsJPXe4eoP/crCEpCBgcFXX301cOvKlSsBgMfjyafhIiMjsRluBoNx7949AJBKpTdv3pw3b96g9ztNTU0AwOVy79y509PT80Gx4d+NGzcMDQ3Xrl0rFotV9SIKxSQSyYMHD4ZKUg0NDfHx8UuXLp0wYYIGgpFzcXE5f/48j8fr6uqi0WjJycktLS23bt2KiIgYdNprNNm+ffvWrVsDAwONjY2NjY09PDzs7OyKioqwxxX3799/9+5dJyenoSZA8WlYt3vYNJyqyO/1vLy85NN5fa1cufKHH34AABaLhT2qZm9vHxISkpSUVF9f7+LiYmRk9PbtW4lEAgA2Njby0Ss5b2/vyMjI9vb2hQsXjhkzxtzcHBs8JhKJkydPnj179vr160fuVRWHw3F2dsZGJbCrTnWrqKjo7u52dnY+ffp0bGzsgQMHvL29CQSCVCrNyckJDg6WSqX9btvVTSgUYl9FmM7OToFA0PdC287OTq1LW7VLX1//2LFjO3fuLC8v19HRsbOz67tkx8/Pz8/P74MafPfu3ePHj1tbWwGAy+X29PTY2Nhgs8ZNTU1CobC5ufnVq1cVFRWTJ0+ePn26ag8Hg6NPq7S0tLm5GQa718NQqVQ7Ozsul3vt2rWYmBis8NChQ7a2trt27RKLxdhkn7W1dVxc3JgxY5YvX95vDt7S0nLFihUZGRkAIJFIamtr+24tLi4+cuRIRkbGGk9PdRygupWVlbm5uXV2dnI4HM2s82az2UQi0cHBgUgk0mg0Hx8fIpFIIpEaGxu7u7vd3NyOHj2q4VcOHDp0KDExsW9JYmJi35KamppR/zoNGo028Engj9P3Btnf3x8AuFwutoAxPj7+8OHD2KY5c+b4+/tfuHBBJTvtB0dJysnJSSaTKa4z6HpLJpPJZDJra2sbGxupVKp8gnlga4GBgRkZGfPnzz9x4kRXVxf23k6pVFpXV/fgwYPExMTe3t60tLQRmqQoFEp2dnZlZaWOjs5QE1jPnj2TX/9KJJLGxsb4+HgAwB4f+dA9lpSUzJkzR19f397ePjc3t7Gx8cmTJ/X19WQymU6nq++xeAUSEhISEhI0v9/RysrKaqjfypSUlJSUFA3EgKMkNUwUCgV7SctQBALBmTNnACA7O7vfbJSLi4ufnx+bzS4uLh6Jc7SYvXv3xsTEiMXiq1evGhsbD1rnn3/+6bsEvK6uDvvnrFmzPiJJsdnsvpe9ZDJZK4kJGd1GT5J6r+bmZmwuvKOjY+BWPp+PLedxc3PTdGQqQqfT33u97eXl9d7LVSUJhcLnz58PtUIKQVQFd4s51cfe3h57AnnJkiWnTp1qamqSSqXt7e1cLjc6OtrJyUkkEtFotNDQUG1HOjKIxWIGg7Fw4UJtB4KMcp/QlZS+vn5OTo63tzefz9+yZUu/rTo6Oh4eHidOnCCTyTByXimlRdbW1tnZ2dqOAhn9PqEkBQCLFi1qbm4uKirKyckpLy9/+/atsbGxpaUllUpds2aNVh4wRhBEsU8rSQEAkUj09PT0HJnzdwjyCfqExqQQBBmJUJJCEATXUJJCEATXUJJCEATXUJJCEATXUJJCEATXUJJCEATXUJJCEATXUJJCEATXPrkV5x+mzzsetdzIaKKgQ7TSVxre6SdyPqjudwclKYWOH9d2BKMR3noVb/GMDqrrVZSkBjNhAlhYgHJ/FVlZ6G1wyveqZvpKHZ+y8kbr+aCGXtVR1SvQEARB1AENnCMIgmsoSSEIgmv/BbjEkBtJO3hdAAAAAElFTkSuQmCC\"></div>"
      ],
      "text/plain": [
       "-(interior Adg[-a, -b]) - gamma1 beta[c] Phi[-c, -a, -b] - alpha[] Pi$Upt[-a, -b]"
      ]
     },
     "execution_count": 25,
     "metadata": {
      "text/html": [],
      "text/plain": []
     },
     "output_type": "execute_result"
    }
   ],
   "source": [
    "dtg$RHS[-a, -b]"
   ]
  },
  {
   "cell_type": "code",
   "execution_count": 26,
   "id": "cb87bb31-849c-4417-9329-f40597c9650b",
   "metadata": {
    "tags": []
   },
   "outputs": [
    {
     "data": {
      "text/html": [
       "<div><img alt=\"Output\" src=\"data:image/png;base64,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\"></div>"
      ],
      "text/plain": [
       "-(interior AdPi[-a, -b]) + 2 alpha[] Gam[-c, -a, -b] H[-d] invg[c, d] - \n",
       " \n",
       ">   gamma1 gamma2 beta[c] Phi[-c, -a, -b] - \n",
       " \n",
       ">   alpha[] invh[d, e] nvec[c] Phi[-e, -a, -b] Pi$Upt[-c, -d] - \n",
       " \n",
       "    alpha[] nvec[c] nvec[d] Pi$Upt[-a, -b] Pi$Upt[-c, -d]\n",
       ">   ----------------------------------------------------- + \n",
       "                              2\n",
       " \n",
       ">   2 alpha[] invg[c, d] (-(Gam[-a, -c, -e] Gam[-b, -d, -f] invg[e, f]) + \n",
       " \n",
       ">      invh[h, h1] Phi[-h, -c, -a] Phi[-h1, -d, -b] - Pi$Upt[-c, -a] Pi$Upt[-d, -b]) - \n",
       " \n",
       ">   srcSdH[-a, -b] + gamma0 alpha[] \n",
       " \n",
       ">    (ndua[-b] (H[-a] + trGam[-a]) + ndua[-a] (H[-b] + trGam[-b]) - \n",
       " \n",
       ">      g[-a, -b] nvec[c] (H[-c] + trGam[-c]))"
      ]
     },
     "execution_count": 26,
     "metadata": {
      "text/html": [],
      "text/plain": []
     },
     "output_type": "execute_result"
    }
   ],
   "source": [
    "dtPi$RHS[-a, -b]"
   ]
  },
  {
   "cell_type": "code",
   "execution_count": 27,
   "id": "01c379f3-515e-4e21-b72b-e9178ee1d12f",
   "metadata": {},
   "outputs": [
    {
     "data": {
      "text/html": [
       "<div><img alt=\"Output\" src=\"data:image/png;base64,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\"></div>"
      ],
      "text/plain": [
       "-(interior AdPhi[-k, -a, -b]) - gamma2 alpha[] Phi[-k, -a, -b] + \n",
       " \n",
       ">   alpha[] invh[d, e] nvec[c] Phi[-e, -a, -b] Phi[-k, -d, -c] + \n",
       " \n",
       "    alpha[] nvec[c] nvec[d] Phi[-k, -c, -d] Pi$Upt[-a, -b]\n",
       ">   ------------------------------------------------------\n",
       "                              2"
      ]
     },
     "execution_count": 27,
     "metadata": {
      "text/html": [],
      "text/plain": []
     },
     "output_type": "execute_result"
    }
   ],
   "source": [
    "dtPhi$RHS[-k, -a, -b]"
   ]
  },
  {
   "cell_type": "markdown",
   "id": "dda21578-6585-4329-906d-5b85eeda49bb",
   "metadata": {},
   "source": [
    "## Write to files"
   ]
  },
  {
   "cell_type": "code",
   "execution_count": 28,
   "id": "08c8fe34-4bdb-4cea-b784-38e5cf70c246",
   "metadata": {},
   "outputs": [],
   "source": [
    "SetOutputFile[\"GHG_rhs.c\"];\n",
    "SetProject[\"GHG\"];"
   ]
  },
  {
   "cell_type": "code",
   "execution_count": 30,
   "id": "748d8843-a442-4ba5-b75d-0ecc4e7c100b",
   "metadata": {},
   "outputs": [],
   "source": [
    "$MainPrint[] :=\n",
    "    Module[{project = GetProject[]},\n",
    "        pr[\"#include \\\"nmesh.h\\\"\"];\n",
    "        pr[\"#include \\\"\" <> project <> \".h\\\"\"];\n",
    "        pr[];\n",
    "        pr[\"#define Power(x,y) (pow((double) (x),(double) (y)))\"];\n",
    "        pr[\"#define Log(x) log((double) (x))\"];\n",
    "        pr[\"#define pow2(x) ((x)*(x))\"];\n",
    "        pr[\"#define pow2inv(x) (1.0/((x)*(x)))\"];\n",
    "        pr[\"#define Cal(x,y,z) ((x)?(y):(z))\"];\n",
    "        pr[\"#define Sqrt(x) sqrt(x)\"];\n",
    "        pr[\"#define Abs(x) fabs(x)\"];\n",
    "        pr[];\n",
    "        pr[\"/* use globals from \" <> project <> \" */\"];\n",
    "        pr[\"extern t\" <> project <> \" \" <> project <> \"[1];\"];\n",
    "        pr[];\n",
    "        pr[];\n",
    "        pr[\"int GHG_rhs(tNode *node, tVarList *vlr, tVarList *vlu)\"];\n",
    "\n",
    "        pr[\"{\"];\n",
    "        pr[\"tMesh *mesh = node->pat->mesh;\"];\n",
    "        pr[\"int ialpha = Ind(\\\"ADM_alpha\\\");\"];\n",
    "        pr[\"int ibetax = Ind(\\\"ADM_betax\\\");\"];\n",
    "        pr[\"int iAdgtt = Ind(\\\"GHG_Adgtt\\\");\"];\n",
    "        pr[\"int iAdPitt = Ind(\\\"GHG_AdPitt\\\");\"];\n",
    "        pr[\"int iAdPhixtt = Ind(\\\"GHG_AdPhixtt\\\");\"];\n",
    "        pr[\"int isrcSdHtt = Ind(\\\"GHG_srcSdHtt\\\");\"];\n",
    "        pr[\"int fc[6];\"];\n",
    "        pr[\"int ijk;\"];\n",
    "        pr[];\n",
    "        PrintInitializations[{Mode -> \"MainOut\"}, dtEvolVarlist];\n",
    "        PrintInitializations[{Mode -> \"MainIn\"}, EvolVarlist];\n",
    "        PrintInitializations[{Mode -> \"MoreInOut\"}, MoreInVarlist];\n",
    "        pr[];\n",
    "        pr[\"TIMER_START;\"];\n",
    "        pr[];\n",
    "        pr[\"/* compute */\"];\n",
    "        pr[\"forpoints(node, ijk)\"];\n",
    "        pr[\"{\"];\n",
    "        (* parameters *)\n",
    "        pr[\"double interior = !(ind_on_nodeface(node, ijk, fc));\"];\n",
    "        pr[\"double gammas[3], gamma0, gamma1, gamma2;\"];\n",
    "        pr[\"GHG_gammas(node, ijk, gammas);\"];\n",
    "        pr[\"gamma0 = gammas[0];\"];\n",
    "        pr[\"gamma1 = gammas[1];\"];\n",
    "        pr[\"gamma2 = gammas[2];\"];\n",
    "        pr[];\n",
    "        PrintEquations[{Mode -> \"Temp\"}, TempVarlist];\n",
    "        pr[];\n",
    "        PrintEquations[{Mode -> \"Main\"}, dtEvolVarlist];\n",
    "        pr[\"} /* end of points */\"];\n",
    "        pr[];\n",
    "        pr[\"TIMER_STOP;\"];\n",
    "        pr[];\n",
    "        pr[\"return 0;\"];\n",
    "        pr[\"} /* end of function */\"];\n",
    "    ];"
   ]
  },
  {
   "cell_type": "code",
   "execution_count": 31,
   "id": "d5bc1555-b316-44a3-9bd5-5a031ba63f98",
   "metadata": {},
   "outputs": [
    {
     "name": "stdout",
     "output_type": "stream",
     "text": [
      "Writing to \"GHG_rhs.c\"...\n",
      "\n",
      "\"GHG_rhs.c\" already exist, replacing it ...\n",
      "\n",
      "Done generating \"GHG_rhs.c\"\n",
      "\n"
     ]
    }
   ],
   "source": [
    "<<../../codes/Nmesh.wl"
   ]
  }
 ],
 "metadata": {
  "kernelspec": {
   "display_name": "Wolfram Language 13.3",
   "language": "Wolfram Language",
   "name": "wolframlanguage13.3"
  },
  "language_info": {
   "codemirror_mode": "mathematica",
   "file_extension": ".m",
   "mimetype": "application/vnd.wolfram.m",
   "name": "Wolfram Language",
   "pygments_lexer": "mathematica",
   "version": "12.0"
  }
 },
 "nbformat": 4,
 "nbformat_minor": 5
}
