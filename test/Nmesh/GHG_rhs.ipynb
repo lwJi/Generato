{
 "cells": [
  {
   "cell_type": "code",
   "execution_count": 1,
   "id": "0dc3b4eb-b696-49e0-921f-8af61ccbe056",
   "metadata": {},
   "outputs": [
    {
     "name": "stdout",
     "output_type": "stream",
     "text": [
      "------------------------------------------------------------\n",
      "Package xAct`xPerm`  version 1.2.3, {2015, 8, 23}\n",
      "CopyRight (C) 2003-2020, Jose M. Martin-Garcia, under the General Public\\\n",
      " \n",
      ">   License.\n",
      "Connecting to external mac executable...\n",
      "Connection established.\n",
      "------------------------------------------------------------\n",
      "Package xAct`xTensor`  version 1.2.0, {2021, 10, 17}\n",
      "CopyRight (C) 2002-2021, Jose M. Martin-Garcia, under the General Public\\\n",
      " \n",
      ">   License.\n",
      "------------------------------------------------------------\n",
      "These packages come with ABSOLUTELY NO WARRANTY; for details type\\\n",
      " \n",
      ">   Disclaimer[]. This is free software, and you are welcome to redistribute\\\n",
      " \n",
      ">   it under certain conditions. See the General Public License for details.\n",
      "------------------------------------------------------------\n",
      "------------------------------------------------------------\n",
      "Package xAct`xCoba`  version 0.8.6, {2021, 2, 28}\n",
      "CopyRight (C) 2005-2021, David Yllanes and Jose M. Martin-Garcia, under the\\\n",
      " \n",
      ">   General Public License.\n",
      "------------------------------------------------------------\n",
      "These packages come with ABSOLUTELY NO WARRANTY; for details type\\\n",
      " \n",
      ">   Disclaimer[]. This is free software, and you are welcome to redistribute\\\n",
      " \n",
      ">   it under certain conditions. See the General Public License for details.\n",
      "------------------------------------------------------------\n",
      "------------------------------------------------------------\n",
      "Package Generato`Basic`, {2024, 1, 11}\n",
      "------------------------------------------------------------\n",
      "------------------------------------------------------------\n",
      "Package Generato`ParseMode`, {2024, 7, 06}\n",
      "------------------------------------------------------------\n",
      "------------------------------------------------------------\n",
      "Package Generato`Component`, {2024, 1, 11}\n",
      "------------------------------------------------------------\n",
      "------------------------------------------------------------\n",
      "Package Generato`Varlist`, {2024, 1, 11}\n",
      "------------------------------------------------------------\n",
      "------------------------------------------------------------\n",
      "Package Generato`Interface`, {2024, 1, 11}\n",
      "------------------------------------------------------------\n",
      "------------------------------------------------------------\n",
      "Package Generato`Derivation`, {2024, 1, 18}\n",
      "------------------------------------------------------------\n",
      "------------------------------------------------------------\n",
      "Package Generato`Writefile`, {2025, 1, 23}\n",
      "------------------------------------------------------------\n",
      "------------------------------------------------------------\n",
      "Package Generato`FiniteDifferenceStencils`, {2025, 1, 21}\n",
      "------------------------------------------------------------\n",
      "\n"
     ]
    }
   ],
   "source": [
    "<<../../src/Generato.wl"
   ]
  },
  {
   "cell_type": "markdown",
   "id": "9613c2e2-5e07-4fe8-a0e1-169edfd6bf82",
   "metadata": {},
   "source": [
    "## Setup"
   ]
  },
  {
   "cell_type": "code",
   "execution_count": 2,
   "id": "285a46b3-c7e0-450d-a5aa-bb7b79485235",
   "metadata": {},
   "outputs": [],
   "source": [
    "SetPVerbose[False];\n",
    "SetPrintDate[False];\n",
    "SetGridPointIndex[\"[[ijk]]\"];\n",
    "DefManifold[M4, 4, Union[Complement[IndexRange[a, z], {g}], Table[ToExpression[\"h\" <> ToString[i]], {i, 1, 9}], Table[ToExpression[\"z\" <> ToString[i]], {i, 1, 9}]]];\n",
    "DefChart[cart, M4, {0, 1, 2, 3}, {T[], X[], Y[], Z[]}, ChartColor -> Green];"
   ]
  },
  {
   "cell_type": "markdown",
   "id": "89e4f81f-3d34-4b38-83f8-3ef8e44408a4",
   "metadata": {},
   "source": [
    "## Grid and Temporary Functions"
   ]
  },
  {
   "cell_type": "code",
   "execution_count": 7,
   "id": "59ee85bf-6da3-4420-b3fb-26b73cb86737",
   "metadata": {},
   "outputs": [],
   "source": [
    "dtEvolVarlist = GridTensors[\n",
    "    {dtg[-a, -b], Symmetric[{-a, -b}]},\n",
    "    {dtPi[-a, -b], Symmetric[{-a, -b}], PrintAs -> \"dt\\[CapitalPi]\"},\n",
    "    {dtPhi[-k, -a, -b], Symmetric[{-a, -b}], PrintAs -> \"dt\\[CapitalPhi]\"}\n",
    "];\n",
    "EvolVarlist = GridTensors[\n",
    "    {g[-a, -b], Symmetric[{-a, -b}]},\n",
    "    {Pi$Upt[-a, -b], Symmetric[{-a, -b}], PrintAs -> \"\\[CapitalPi]\"},\n",
    "    {Phi[-k, -a, -b], Symmetric[{-a, -b}], PrintAs -> \"\\[CapitalPhi]\"},\n",
    "    {H[-a]}\n",
    "];\n",
    "MoreInVarlist = GridTensors[\n",
    "    {Adg[-a, -b], Symmetric[{-a, -b}]},\n",
    "    {AdPi[-a, -b], Symmetric[{-a, -b}], PrintAs -> \"Ad\\[CapitalPi]\"},\n",
    "    {AdPhi[-k, -a, -b], Symmetric[{-a, -b}], PrintAs -> \"Ad\\[CapitalPhi]\"},\n",
    "    {alpha[], PrintAs -> \"\\[Alpha]\"},\n",
    "    {beta[i], PrintAs -> \"\\[Beta]\"},\n",
    "    {srcSdH[-a, -b], Symmetric[{-a, -b}], PrintAs -> \"\\!\\(\\*SubscriptBox[\\(\\[PartialD]\\), \\((a\\)]\\)\\!\\(\\*SubscriptBox[\\(H\\), \\(\\(b\\)\\()\\)\\)]\\)\"}\n",
    "];\n",
    "TempVarlist = TempTensors[\n",
    "    {detinvh[], PrintAs -> \"\\[Gamma]\"},\n",
    "    {invh[i, j], Symmetric[{i, j}], PrintAs -> \"\\[Gamma]\"},\n",
    "    {nvec[a], PrintAs -> \"n\"},\n",
    "    {ndua[-a], PrintAs -> \"n\"},\n",
    "    {invg[a, b], Symmetric[{a, b}], PrintAs -> \"g\"},\n",
    "    {dginFO[-c, -a, -b], Symmetric[{-a, -b}], PrintAs -> \"dg\"},\n",
    "    {Gam[-c, -a, -b], Symmetric[{-a, -b}], PrintAs -> \"\\[CapitalGamma]\"},\n",
    "    {trGam[-a], PrintAs -> \"\\[CapitalGamma]\"}\n",
    "];"
   ]
  },
  {
   "cell_type": "markdown",
   "id": "54bdbeb4-a79e-4676-8ced-52f366f99c11",
   "metadata": {},
   "source": [
    "## Constants"
   ]
  },
  {
   "cell_type": "code",
   "execution_count": 11,
   "id": "7bce9ca9-ce46-46a6-bfc1-76a426389fdd",
   "metadata": {},
   "outputs": [],
   "source": [
    "DefConstantSymbol[gamma0, PrintAs -> \"\\!\\(\\*SubscriptBox[\\(\\[Gamma]\\), \\(0\\)]\\)\"];\n",
    "DefConstantSymbol[gamma1, PrintAs -> \"\\!\\(\\*SubscriptBox[\\(\\[Gamma]\\), \\(1\\)]\\)\"];\n",
    "DefConstantSymbol[gamma2, PrintAs -> \"\\!\\(\\*SubscriptBox[\\(\\[Gamma]\\), \\(2\\)]\\)\"];\n",
    "DefConstantSymbol[interior, PrintAs -> \"I\"];"
   ]
  },
  {
   "cell_type": "markdown",
   "id": "b61fc591-5fc0-4e4c-8f09-b1fb26f06a4c",
   "metadata": {},
   "source": [
    "## Equations"
   ]
  },
  {
   "cell_type": "markdown",
   "id": "ba91bc7f-9be5-4cbc-82a5-ac71fd620e8f",
   "metadata": {},
   "source": [
    "$$\n",
    "\\begin{align*}\n",
    "(\\det{\\gamma})^{-1}\\, \\text{and} \\, \\gamma^{ij}\n",
    "\\end{align*}\n",
    "$$"
   ]
  },
  {
   "cell_type": "code",
   "execution_count": 15,
   "id": "77295603-877c-4dc8-a005-24cf2a41b231",
   "metadata": {},
   "outputs": [],
   "source": [
    "Module[{Mat, invMat},\n",
    "    Mat = Table[g[{aa, -cart}, {bb, -cart}] // ToValues, {aa, 1, 3}, {bb, 1, 3}];\n",
    "    invMat = Inverse[Mat] /. {1 / Det[Mat] -> (detinvh[] // ToValues)};\n",
    "    SetEQNDelayed[detinvh[], 1 / Det[Mat] // Simplify];\n",
    "    SetEQNDelayed[invh[i_, j_], invMat[[i[[1]], j[[1]]]] // Simplify]\n",
    "];"
   ]
  },
  {
   "cell_type": "markdown",
   "id": "f99c2dd0-ebeb-4743-9b4c-66b5d7f20184",
   "metadata": {},
   "source": [
    "$$\n",
    "\\begin{align*}\n",
    "n^a &=[\\alpha^{-1},-\\alpha^{-1}\\beta^i] \\\\\n",
    "n_a &= [-\\alpha, 0]\n",
    "\\end{align*}\n",
    "$$"
   ]
  },
  {
   "cell_type": "code",
   "execution_count": 16,
   "id": "8ad07485-428c-4fb5-82f2-ad80d2d85642",
   "metadata": {},
   "outputs": [],
   "source": [
    "SetEQNDelayed[nvec[a_], If[a[[1]] == 0, alpha[] ^ -1, -alpha[] ^ -1 beta[a]]];\n",
    "SetEQNDelayed[ndua[a_], If[a[[1]] == 0, -alpha[], 0.0]];"
   ]
  },
  {
   "cell_type": "markdown",
   "id": "aace8d92-d330-489b-9698-71cc78513e22",
   "metadata": {},
   "source": [
    "$$\n",
    "g^{ab}=\\gamma^{ab}-n^an^b\n",
    "$$"
   ]
  },
  {
   "cell_type": "code",
   "execution_count": 18,
   "id": "c158517b-1e96-4f33-ac8e-a606fa7bd472",
   "metadata": {},
   "outputs": [],
   "source": [
    "SetEQN[invg[a_, b_], invh[a, b] - nvec[a] nvec[b]];"
   ]
  },
  {
   "cell_type": "markdown",
   "id": "8298b409-294e-4d09-af1c-fab32b040654",
   "metadata": {},
   "source": [
    "$$\n",
    "\\begin{align*}\n",
    "    \\partial_tg_{ab} &= -\\alpha\\Pi_{ab}+\\beta^i\\Phi_{iab}\\\\\n",
    "    \\partial_ig_{ab} &= \\Phi_{iab}\n",
    "\\end{align*}\n",
    "$$"
   ]
  },
  {
   "cell_type": "code",
   "execution_count": 19,
   "id": "e0ab97fe-91eb-47c4-81bb-7d395403c152",
   "metadata": {},
   "outputs": [],
   "source": [
    "SetEQNDelayed[dginFO[c_, a_, b_],\n",
    "    If[c[[1]] == 0,\n",
    "        -alpha[] Pi$Upt[a, b] + beta[k] Phi[-k, a, b]\n",
    "        ,\n",
    "        Phi[c, a, b]\n",
    "    ]\n",
    "];"
   ]
  },
  {
   "cell_type": "markdown",
   "id": "c5abf7a4-4827-4d6e-ae41-3d8ccd732a8e",
   "metadata": {},
   "source": [
    "$$\n",
    "\\Gamma_{cab} = \\frac{1}{2}(\\partial_ag_{bc}+\\partial_bg_{ca}-\\partial_cg_{ab})\n",
    "$$"
   ]
  },
  {
   "cell_type": "code",
   "execution_count": 20,
   "id": "39ad598c-8997-4f97-8d63-d5fc46588611",
   "metadata": {},
   "outputs": [],
   "source": [
    "SetEQN[Gam[c_, a_, b_], 1/2 (dginFO[a, b, c] + dginFO[b, c, a] - dginFO[c, a, b])];"
   ]
  },
  {
   "cell_type": "markdown",
   "id": "33604530-43ce-41a1-8700-a5190d161449",
   "metadata": {},
   "source": [
    "$$\\Gamma_c = g^{ab}\\Gamma_{cab}$$"
   ]
  },
  {
   "cell_type": "code",
   "execution_count": 21,
   "id": "c8e530d2-5e73-41f3-a9ec-f8de3606fd69",
   "metadata": {},
   "outputs": [],
   "source": [
    "SetEQN[trGam[c_], invg[a, b] Gam[c, -a, -b]];"
   ]
  },
  {
   "cell_type": "markdown",
   "id": "5c0e7e61-63ae-420d-a095-3568ec16f9e2",
   "metadata": {},
   "source": [
    "$$\n",
    "\\begin{align*}\n",
    "\\partial_tg_{ab} &= ...\\\\\n",
    "\\partial_t\\Pi_{ab} &= ...\\\\\n",
    "\\partial_t\\Phi_{iab} &= ...\n",
    "\\end{align*}\n",
    "$$"
   ]
  },
  {
   "cell_type": "code",
   "execution_count": 22,
   "id": "fd95b328-a9df-4111-ab84-209b7b2fa1c2",
   "metadata": {},
   "outputs": [],
   "source": [
    "SetEQN[dtg[a_, b_], -Adg[a, b] interior - alpha[] Pi$Upt[a, b] - gamma1\n",
    "     beta[c] Phi[-c, a, b]];\n",
    "SetEQN[dtPi[a_, b_], -AdPi[a, b] interior + 2 alpha[] invg[c, d] (invh[\n",
    "    i, j] Phi[-i, -c, a] Phi[-j, -d, b] - Pi$Upt[-c, a] Pi$Upt[-d, b] - invg[\n",
    "    e, f] Gam[a, -c, -e] Gam[b, -d, -f]) - 1/2 alpha[] nvec[c] nvec[d] Pi$Upt[\n",
    "    -c, -d] Pi$Upt[a, b] - alpha[] nvec[c] Pi$Upt[-c, -i] invh[i, j] Phi[\n",
    "    -j, a, b] + 2 alpha[] (invg[c, d] Gam[-c, a, b] H[-d]) + gamma0 alpha[\n",
    "    ] ((H[a] + trGam[a]) ndua[b] + (H[b] + trGam[b]) ndua[a] - g[a, b] nvec[\n",
    "    c] (H[-c] + trGam[-c])) - gamma1 gamma2 beta[i] Phi[-i, a, b] - srcSdH[\n",
    "    a, b]];\n",
    "SetEQN[dtPhi[i_, a_, b_], -AdPhi[i, a, b] interior + 1/2 alpha[] nvec[\n",
    "    c] nvec[d] Phi[i, -c, -d] Pi$Upt[a, b] + alpha[] invh[j, k] nvec[c] Phi[\n",
    "    i, -j, -c] Phi[-k, a, b] - gamma2 alpha[] Phi[i, a, b]];"
   ]
  },
  {
   "cell_type": "markdown",
   "id": "ea88286d-68bb-4799-af70-c9fd34cb4201",
   "metadata": {},
   "source": [
    "### Check expression"
   ]
  },
  {
   "cell_type": "markdown",
   "id": "c280eb9b-b599-444b-ac54-152a0ab15692",
   "metadata": {},
   "source": [
    "Please check Eq.(35)-(37) on CQG. 23 (2006) S447-S462 for the expression of $\\partial_tg, \\partial_t\\Pi, \\partial_t\\Phi$"
   ]
  },
  {
   "cell_type": "code",
   "execution_count": 25,
   "id": "6dac33e1-2325-41b1-b15d-d210cd965756",
   "metadata": {},
   "outputs": [
    {
     "data": {
      "text/html": [
       "<div><img alt=\"Output\" src=\"data:image/png;base64,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\"></div>"
      ],
      "text/plain": [
       "-Image-"
      ]
     },
     "execution_count": 25,
     "metadata": {
      "text/html": [],
      "text/plain": []
     },
     "output_type": "execute_result"
    }
   ],
   "source": [
    "dtg$RHS[-a, -b] // ScreenDollarIndices // Rasterize"
   ]
  },
  {
   "cell_type": "code",
   "execution_count": 26,
   "id": "cb87bb31-849c-4417-9329-f40597c9650b",
   "metadata": {
    "tags": []
   },
   "outputs": [
    {
     "data": {
      "text/html": [
       "<div><img alt=\"Output\" src=\"data:image/png;base64,iVBORw0KGgoAAAANSUhEUgAAA/MAAACbCAIAAACh0VxeAAAA03pUWHRSYXcgcHJvZmlsZSB0eXBlIGV4aWYAAHjabU/rbQYhDPvPFB0hJMGBcbg7kL4NOn4TQKquqiVi4zwgaXx/ZvoKcKakxSoaQA5t2ri7qLSxOVNbcWEKyXFffmrXFrm7VX4TGMe/3r5hM9c/g4i3kHjBtehpOIOEt5/7vl+nnnutr0HzngtnmZU7X//3rmKMgmzqUZnM0FzX5NIJhakYJm7ACzMeJr2dB8y8DRYV0qMxwMPe1SNB3HhiBYlTpDtjxcbhiGuR6lHdedzXlY11fgD7CVyv/UgLhAAAAAlwSFlzAAAWJQAAFiUBSVIk8AAAADx0RVh0U29mdHdhcmUAQ3JlYXRlZCB3aXRoIHRoZSBXb2xmcmFtIExhbmd1YWdlIDogd3d3LndvbGZyYW0uY29tXKKmhQAAACF0RVh0Q3JlYXRpb24gVGltZQAyMDI1OjA2OjA5IDIzOjM4OjQ5r98x+wAAIABJREFUeF7tnXW8HrUS99/i7g4FirtbgeLSYsUpFHcp7sXdtVDsXtytWCnFikORAgUKFGvR4u72fi9zb959d59nN8lm99l9zuSP8zlnT2TySzKZTGYmnf7+++//o0kRUAQUAUVAEVAEFAFFQBFQBGqOwFg1p1/JVwQUAUVAEVAEFAFFQBFQBBSB/yCgkr3OA0VAEVAEFAFFQBFQBBQBRaAdEFDJvh1GUfugCARBANu8v/76K0hVWokioAiAgK4pnQaKgCJQMgIq2ZcMuDanCFQXgbPOOmvsscd+8sknq0uiUqYI1AoBXVO1Gi4lVhFoBwRUsm+HUdQ+KAKKgCKgCCgCioAioAgoAirZ6xxQBBQBRUARUAQUAUVAEVAE2gEBlezbYRS1D4pAOgKWwW07deqkSLYWAcuRai2R2ro9AulrqlLDXSli7BHWnIqAIhBDwF+yf+yxx65LTZ988onCXTQC+Du+8cYbH330UdENaf11RODHH3885phjFl988YkmmmiWWWbZZJNNXnnllWhHPv3002222Wb66aefaqqp+O8HH3xQx262Ac2ZI9UGfewgXbBZU++8884WW2wx00wzTTzxxMssswwbaQvBwa9mvfXWgz9MOOGEEHPaaaf98ccfLaRHm1YEFIGcCHTyPqZvvPHGAwYMSGn+vvvuW3vttXPSp8UbIsCo9e/f/8477xw6dOh3331HnkkmmWSDDTaAKcOgFTRFAAS+/PLLpZde+r333lt99dVXXnnlr7/++sYbb+QoOGrUqAkmmIAMX3311cILL/zxxx9vuummCy644JAhQziu8/2JJ55YYYUVFMPSEMgcqdIo0YZyImCzpmDaq6yyyqSTTrrnnnvS3A033DBy5MgzzzzzwAMPzNm6R/Gzzz6bdjnY9+7de4YZZnjqqacGDhzIx/3339+jNi2iCCgClUAAGdEv9e3bd8X/pS5dukhnOPGbj6+++qpfzflLffbZZ4v+k+6///78tVWtBuSAddZZx8wemDLxTORP5Ps333yzagQrPcER4EIMTdvo0aOR1JtVvvnmmzMl2KRNBoT7YcOGmT/32msvMpxxxhnmyx577CGSfXCCO3KFcCGO3DvuuCP3J0h1f/75ZwyNzJHqyOjVq++Za4rRn2uuuaaddlrux0zXOFejvP/5559L7uzLL788zjjjQA/3DKbpxx9//LfffiuZEm1OEVAEAiLwn2i7+RPSg0iW3Cnnr01q+P7776/9Jz344IOudaKGFHpuvvlm17LVz9+9e3e6Nt5445100kkix8OIL774Yiwu+L7ssstWvwt1ofDFF19kBt5+++1JgrGAkvnJQavM7qDhm3322c25jgv0ySOJc7UQgwDBMQ+JIYW2eeedFwmDm3eTBylfJfuAo/nFF1/07NkTS2t0tDvvvDOKD37nVo2LFNOKzUgFJEmrCo4Ap2vO2FJt5poaMWIESwxTnBciadttt+XjSy+9FJy29ApPP/30dt0lS0ZSm1MEKoVAdSX7q6++WsSXKaaY4tdff3VCrb0l+/fff3+NNdZ45plnYpgImyZFFTBOuGnmGAK77bYbeCKKJZG59957BW026NJwQ/Urjc4888zrr78+yjYj4ssv3FMJMYga/MkNezPaEEfGHXfcJZZYIppBJfuwQ7nRRhsxUs8995ypFi0pwn10XDJHKixJWpslAj/99BPrC5n7yiuv/OWXX5qVYm9iNLGYZ0HZrCnUBLE1a/586KGHLGkLlW2HHXag9bfeeitUhVqPIqAIVAEBfw/aZuwp1HfU7VLVN998w3V2qGrboJ7OnTs/8MAD6OZjfUE7KF+GDx/u1E20tigXnYo0zLzhhhvii5mZgrSVn9ra1fD2228fccQRkI2rK5vxXXfdhfP0vvvuy5fpppsOCzQYCmo/6RdfuGfnENism8iXU0455euvv47UUjUo6EgK5QGpLbQhFimeSJdddtlSSy1laF5kkUW4c4uu0MyRytNfDDwwnk5ZkmI90n4pP0/DxHG//fYbM2bMrrvuiia+oZMrPk49evRglJH+WVA2a0r8oA444ADut2OJi53gAwEOzz//POyCq6Fk5Rw7+Shny+Cpnebeu+++m7mvSQYxaNSkCLQYgSDHi+DWOBgEY20CNKuuuio/t956ayc6kzp7YhGwg9qk3Xff3amt/JnZ5j///PP89WAfKZMJGxLL2s4///xu3bqJGQ9y3k477QTyUhbMsfaxrEeysYUM/idhN4xrpvweTf/+979piLFwqraFmSulsxf0kNfx0jOY/P777+gL+X7JJZfEgOLsh6iBfBn9jjGA+XO11Vaj4KBBg+QLGsftt9+eLwXZ2XsoQf2GvrSG0snr1atXQ9M44gqstdZa0bKZI+WHg4wpahGzBg8++GBstKJLsoXeUN6dSi8YlqfRFnZ3hI5hXeBUGm0alRNXZJjCRddL5priIM0tNGtWjuJhE/eHVA7vpdpnn32WmAqTTTaZbAqY7XGpG/PxYO3zL04UUZM8rnxRvuQnrJ3mHqcUVg0RCIDrwgsvTG5tHPCWW245vrffgso/E7SG8hGoqDUOKhCW0JxzznnHHXfwC+wp5T5UUPvwww8xUBFDfxNw09jZV3llzjPPPDCL/GOPf55glXTRS1aO9LPllluONdZY6KWIYsRhgOAM448/fteuXeHIr732GkIhaio/qlAtE48lWVbGBYMEv2rLL1UpyR6fddDjxiaGA3Fv+N6nT5/Yd8aU4zHpoIMOuvXWWy+//HK0xWgi0dNLToR+CqJnwkmDsWZzEiGgIMkeu4ULLrgAoRaSZpttNlwUkgP67bffIhtx1Mzj+15aQykTEn7FSjz55JNjecCcIUCRH/2eOVKhZv7111+PZ0Wo2qpWT6E8janL0th7772l15yoMYkEzKhLuuWawlWGqmaddVbYPtGo2KRQhRB8Nj+erFxqZvnQBKK8KAIwupN1TerXr1+slc0224zvWOWhOMBSiE0EFc9WW22Vn5hYDW0w91DAgRWBg5PgEOYI07vgoGmFioAfAhWV7CX2C2wUP1pR3iPiN+sh3EpuFUnsmiuttJIwOFLMg7aaKzOIZI9iaeqpp6bL2223nc1UwJ8P1s89cjSzbDmAhtC/wAIL2JwQGrbVTLIXw4+CBEebXrvmqZRkf9NNN8kMx0LAdIQjK6I531FVJnvHLQo+teatHFxvY6e1K664QrR65Fl++eUR8fn96aefdgXKKb+TEtSp5ljm0hpKEinxQ7mOM//iIhFBH5U5zC25sjJHyhsHZFCEKmRH3Kkl2inyKDd1++yzT/QCx7v+6hQslKfRzRNPPBH00MvyOyY6DGV0fA0ONmvqnnvuwcLHCNz8Tqn8SJqNj5qxwkLHzOiTENkJsslHNspYKzCQE044gZsHIQblDt69zNX8xFBDm829asoPQUZKK2kzBKoo2WNsIGoG0duh5OP3hloENkhsuw1/hHmhhBYxpUNJ9mjZUSDRZYR7m0tetLYIiEmFInjOMccc7PrAiBzpPdebSfZUiD7JI9iRNyU5C1ZKskegR5hglLkPkVHmhgpVH1/QzHHN0qyzZOOepJlfNYPOfLCZNjnBjBW3VILmb7S0hqKkYvmAtCQxSXn6QwaOhBoiJVBp+kh5QIFZBVIjiw4jQy5JDjnkEM7zyKZgwpMF8ElimXtUW8EiRfM06fK6664799xzI+IDHc+JNMPBck0RVovrGqx6QuFpJHsMcrggjVZ72GGHyQxsyAeYk3i2YEkSMN5l+809lexDTVStp2gEqijZiz0xYrqExGEvlD+T4X65zRRuhb0jLBL2hI6f4kYD0UF09ocffrjg0NDCITmHCPgwzTTTgFXyX2JpzcaQIn9kTsoUyf6HH37IU3Nm02EziGRPqGmMVmPp3HPPFczLjI1j3PiQ1eaff35saoUGiAnb8XJqs1SC5ifGviGOT8g3mbZ/mSQhza+55pqSjdg4SIGnnnoq7rNozZMn6sza/DIgX2LTz+WbEeZiFhHodDnh8+adX/2VKlU0T5PO4rPOKZoVd8opp1Sq+0KMkeyT124mllc0UlNxXWjLuaeSfXETRmsOi8B/36BFjSrXx80SvvxGjEjmOeecc8jAd3RO4o6ZJ2ENjFaJdzFvueUW6sFzXwJ4c6WIKZupGZNcvqPw4CcKy2i7XJIi65MTyV7sCCWhReAmGju5hRZaKEYhMSJQcqSEJGvYI4RUvstFgX2KoY0dBS500Vg36WjHGjruuOOOPfZYPmKHjc+rDRlIGLxOKieoWDr++OMxtcQsmwAsNlU1zHPkkUfi80A3vWtwKsgouA6BZf1oOvFMTc+MZI+VarM8slyDkMfJFm09ezbaVp65Ybpyt848RxuH85Zlj/Jny8krYgTgm8gDnJiQHXXUUVjc4fOXpJAu8yzXNddcg8wNZ5DrKdeU2dB5553HSiQIBjUj72JugeeJNzdjaPBHZzVF6UTcYbVi/ED0UtTnrl1wzY9LPaaJSHImOA/mdgRT4n7GVLXLLrvQZeItulaent9jSeacV0XzNOkvOwguIqhFCoonk3MUWCZY31EJxl1LLrlktDb8AeTLI488Ip45haZWzT2/HdkSiuDyQ7Jdm/0i50qx7KxmqzUC/xVJeTmF435KQqoop59cUMo2Y2I4wkkXW2wxvoidsUlIVIj1/Mn2GduAEd/LoZZgOxK9xynF0AZbwsVEwbdHG2WkiPUIIpZiPbyD+Il4JydpRvIQl+XoG7dOXSs/M3YFyGFDhgwptGlUrbEk7h+Z6ayzzoI8dtzMnJkZsM1FxkVKY6ogWHBvzkRivMoU6yEyLK8AHyrkKIgmu6FYT4v41BLUheO63PZkAtUwQ3pDxKrDlRxTtEsvvRSBHoZz0UUX4Xns1xaGDVgqJ+PSMhNgVqgnWKr2a9yPBkpx/8DPpBYjWuF8881HSETvJhoW9FuSeeZVaTwNfoufLufq2oXuNe+Uhx3rZrW1au757cjlYGLTis1+kWel2NCgedoBgSBXAAGjXhI1QmBFZHn0f0mkfIwi4KqGYHRskpOoOLFeNHupKvhtGmEE0IrlxNDbg1aCpZBwQrD3dhWei8I+SbYYPpGiL5979C7FGsejtvQiMg0efvjh4DVTYX47+4BvP0lPOWAg2eOaVkR/y6+TJcmxnDghKU0TiRXfG7TddN87Zk56Q6gJohZNiN1cUWIB6Gc5JjqIZqFs5WIwFlOlCOS5yaQhtKem8mR8kh133JGTYdjWC12SDUktgafRLvoXzvOy2aFKCAtakNqMNQ46+1iF5qULdPZB2kqvpFVzL8iO3KxrweWHZEMB94sSRlmbqCwCbmYkJRxlzANVuMZyaSgJK1WaxtRn4MCBhgbzlo0JjFMCeRVpAjmeu37UnNCDxQiGCvb2HlNNNRWZcamM9QVTB+z1sQ/me+00UhUZl0LJ4NFZHDExAefCnVMuty68kUlCKcsaIdQJFlCFElBE5TZKUIRsNmxvwxghO70h7KnkzS9JHJ84seOIwlNEHr1mIBgdbDYalhUvIDEbKDShj8fdk3dGo+Y30Raxvb7qqqswhSqUjBIqL4enYUbFcmOe4IXcDNISOluLJjrO3KvFcCiRHQ0Bf8kesxmucSXJWZZkvvAL+nVXNKkH5Sul2BcxCowmCS5h5H5+Z7OX+v12X1faMs0AMjO4ttgsPwpFLvQJT04GjHAQx7GUjSLP7ykPixJ3qEuXLmhuovXjY4ctBIZPYlbOn6Gota8nE8DMDPZtlZbThGnK3yL+JPJiDglTHAYdJSIJ9RhOMty3YH8vril1SXQBoxeUoIwsB8viyHZtCHrQqSMWG198J9qQ7FNMpDB8Z1ZwU+dUp0dmDvCoQmCPyKOY9fNsBTjAGQg2gCMNZ3imE3I/qoFmlWeuuMwMHmR7FCmHp/EWAYE1WXpgmPOc6dHHehXJOfds5lVmnswMZUJqSUzA/aLM3mlbVUPAX7LH9YrNSRKBAqRj2Keaj+ZJVPs+c08tj2Bz18l9YjShouY7GxWae6mQ7Up+iT7Vbt+WTU5kaCJ8Y0nPBo8aj4gxV199dawgoRKISMNGjiIHRQUWtEVr47hAv/vuu4UMzIIRxxFBDOzyC5t3SgdRO+FGTARl8sBxsHBAZ8kzhFhyo2gEWOR75I9yvMQYUHx2F198cTZLnl7HcxfaDPE2Q0BmzoRE9eFlR0aKeCCEwLMZ3yLycCgiEiUx5tEj0hfsmkK1wrgTzISo8/SO8ZVYPVje81HcMZl4mf6+oYgJUk9pSlDXhggJgI2f8BzXhOTHqaCZZE+1BMnBc0Diixed4Aw41eDGMHToUGz2+IWLCBwA8FdGGsZ4w1g/RinBLQShn8UIT1tmmWXw94U5VHxJFs3TsPDkeQRWn2w3/FL02NW9fo+5BwcjUhMaPSYeFnrEOzKPTgoaNttB+Ttyykil724ULG6/qPv8UfpzIeBtJ0TsmvSGcYR1rVye5sZHMFlQdPkk5Bj5r5HesNuJ5TdRX3JGveSemjM0VGE4zl7IVgcBHD9Mc3JvwOse8CB2TQIR8ifefk4dRzpHULMvIiilp6eeeiqlQoQPsSCHfgl5xKMBaH+lCAjL40fs7vZURXPa29lj9sMFAm0R9QXnQt5vn3HGGWndRDjNHALjbkFwDBwPkO9RFyE2RZ9z8usFpVzt7LnI4nRBd1gdHFew6JBhyv84F1KFGFw1s96WtgiV493Z8gtiR4fCnrFmlXFYTSdALFD97OydGuKwhDk1R00/ZwZkaOjk0MVD2gg3+AuJDwzCMb8jrzA58YErH21a5DDP0T29X/jwQT/nUh4KRE9BBHf+lHsVSa1dks1wK5qniTIFbT3zkDe/WjJ8mY1Wx84+SarN3BNbUMwOcXpBLcLGCjslCJ793AuyIzfD2dXOPnN3K26/yJwqmqG9EQgTzz4IRohi4r+PRWyyQnYjNhv+y+I3/zWnCxQ2IgtyAkawNlJvTskeYRfHI9PcqFGjUHShEjZf4CM89WfkcvRhougK+PhIEGwbVoLRDvhgv8EZKUgrwAUUJK740bvI76gMUyrnacyY3IC7ZNS5MHMIRLLv06ePkVdQuPIFI6X8nXKV7ImdStPs/aZpgq4Ekexx8ZRZzUVKsl9YWRAUgv8SziV/r8upgbMKBGO4giiMZM8ml96ut2Tv1BBXVVz7sIob4myDDBOS+z0ETZS7PXr0oI/8SdQdxBR+J8h9+oqwacIpDxxMViKJuwueHDZ/8kvMVx73G1Se3NpF3zPi9jX6gFFrl2R634PzNNOcuIRijcP0QAfhNASlZeZQKlwi+ThuyR600mWnuSf34VG+LbaFUbQz515BOzLzn8UicZwJHcvv8tgOicsc/kQswdmJX3D/M8OdubsVt1+UNuW0oWoiUCHJnms44UrNXtOU5zaRm80TS/BxE+CSDUlEfxIWybgY8ouR7P1WpowZcTkwUyEWHlIaFiPo4cxYJj3xedORdhFWqjnehVJlVNQyCpK4tm7WKLpM3CdsFGApQ5AMxMH0oF2EqvyddZXsee+TCYl21jQdKtYBExiZjH5xxYH2i+2EVugplktcDoizJgJZMk5UfhAKqsFVCeot2ds3xLJlRQNmyoO+mWj06tWra9euJhsjwu0l+nustMsfHYwB0i13t95662iPeDo3yjZTOtuqJZmJf3EZUCTDzXg+wj4QWXHEVL9m17kncjAOYGgxJMkVRPJOvvwd+c0334xuavyOX5AMAaELov/acsst5bvN7lbcflH96aEUFoqAv519bKLn/1M2YGzEeTSxYW0S+xLdvHkCCVEGrQBqMAwVEHRY8EiK7FUcnaUSE3Sc62+u1+WNG9Yev5sozpi98ic2NsTY5JdDDz3UtM7tG2yFnR4TVeJIIF1xYEA3nNJZUZ12zMgJAJicrCmh3BF0eJJWHitoljyGgDkQKnhFShBobm9iNNN3dOedO3cuInQ0zXG8RF/ITOZKhEtqjrLYdeD7QThIFN5cJbEp1ihOFGpsAOSyhTu6LbbYIj8DaVaDZUO8gYWdG0d33JGbsSAbImPus4wI1WLBAvMpf3ToTnrgTsJqRTslJo6wwcouSZshKCgPN8NwM5zK7AORFURJLap1nXu870u/VlllFRM5Q17dgrm1fEdGLIltbSikhCpUS9F/EVhWvmfuboXuF7WYIUpkgQgUem4orXKUl/BcBProrXH+1jHdRpbC7txcvSGGciFgak7q7OV+LY/OLz/ZdamBQxriabdu3VIIzhyCpM5erCF5e7h8HDjXcagwTgIQEEpnL32h5kGDBjHH0B1iUo9vN1I+kjEqpfI7m79FGyUo2m5kKZJYtuBGLH8iB9gTkNnQddddJ0c1zC3wEsEkQBJBIe1bIacEVje+QE5lq5AZZyHoR3XSNkuyCqgqDTYI8DwiRyaUYij7ownfBlM8czuozo5ss7sVvV/YwK552hKBClnjVA1fifyI5GQI4wsa2Zhkj7+v0YpxaYBFECnsAaNqyASkhzAdWAtgqBCtc8SIEfKnzRCIZH/XXXeZGuRJIxwBA9JpWZU4NyN8S34mBh69fMnvQWtJQPtlQ4HXULGBLB6ws9jINmyFs5NTK+i8iR5bvtWNE5EpmZm6ojeNWpSxDPEFrOmSDIWM1lM0AlyeM/caetnZzz0k++rsyOm7G53S/aLoSdVh61fJvunQY3WDZfPUU0/NhTWWsjifiR1/TLLnCwsY3R5JYuMQorvDzifXjnPNgsUUCddPYmwTpL979+5Ys4hTr80QiGSPphz71wEDBhBdB8UPYxR9rtiVKu/8HFEghtg+BEtF9BQ1s0r23nhqwfIR4LKLGUsYXCKMYaOIFwfSEuaIQkntlmT5AGqLfgigm+ceEkUPgeYwzWXPxeuDl22Mosdm7klsnIrsyOm7GyjpfuE3VbRUJgIq2adBhCZY7OZJhKvDx5co/pjtmjLI/b179yY6pLipYYUfs7rLHADNwKsF2FMaPz+E8qg6NnMIeKEJ5PlpnvyktlZFFWQ0cW8VV1d6hM0MIj6/E7NCB1oRqAUCWBGgxTBPdBHSBy8IPLYN8bVbkrWAXYkEAUzqCVogUaRIBJUibEY0SlXm3Kvajpy+u+l+odO+IAQ6UW/Da2j9KAhgV0OUOmQ1CWbfLBGrkc0PV3cMxxU6DwRQsYMzIUTNUcpUYjkEmL5ge01oGhMuyYOMIEWgZOTIkewxLackSHe0kg6IAPsCNkW8X4vvYNJZvHZLsgOOYH27TFQZ9gJublGiJZ2VLedepXbklN2NYdL9or5ztbKUq2Rf2aFRwhQBRUARUAQUAUVAEVAEFAEHBCoU9dKBas2qCCgCioAioAgoAoqAIqAIKAL/PwIq2euMUAQUAUVAEVAEFAFFQBFQBNoBAZXs22EUtQ+KgCKgCCgCioAioAgoAoqASvY6BxQBRUARUAQUAUVAEVAEFIF2QEAl+3YYRe2DIqAIKAKKgCKgCCgCioAioJK9zgFFQBFQBBQBRUARUAQUAUWgHRBQyb4dRlH7oAgoAoqAIqAIKAKKgCKgCKhkr3NAEVAEFAFFQBFQBBQBRUARaAcEVLJvh1HUPigCioAioAgoAoqAIqAIKAIq2escUAQUAUVAEVAEFAFFQBFQBNoBAZXs22EUtQ+KgCKgCCgCioAioAgoAoqASvY6BxQBRUARUAQUAUVAEVAEFIF2QEAl+3YYRe2DIqAIKAKKgCKgCCgCioAiEFiy//TTTy+44IIll1yyc+fOJ598suKrCCgCioAioAgoAoqAIqAIKALlIBBMsr/zzju7dOkywwwz7L333sOGDfvwww+//fbbcvqgrSgCioAioAgoAoqAIqAIKAKKQDDJfvTo0aNGjVJAFQFFQBFQBBQBRUARUAQUAUWgJQgEk+xR1f/xvzTjjDO2pDPaqCKgCCgCioAioAgoAoqAItBhEQgm2Xfq1Gns/yV+77CAascVAUVAEVAEFAFFQBFQBBSBliAQTLJvCfXaqCKgCCgCioAioAgoAoqAIqAICAIq2etMUAQUAUVAEVAEFAFFQBFQBNoBAZXs22EUtQ+KgCKgCCgCioAioAgoAoqASvY6BxQBRUARUAQUAUVAEVAEFIF2QEAl+3YYRe2DIqAIKAKKgCKgCCgCioAioJK9zgFFQBFQBBQBRUARUAQUAUWgHRBQyb4dRlH7oAgoAoqAIqAIKAKKgCKgCKhkr3NAEVAEFAFFQBFQBBQBRUARaAcEVLKv6yj+/ffff/31V12pV7o7NgI6ezv2+GvvwyDAFpC5C2RmCEOK1qIIKAKVQSCMZP/TTz99HUnCSn788Ufz7fvvv69Ml9uEkLPOOos3f5988sk26Y92oyMhEHz2/vLLL/369eNnR0JR+1oIAh999NGLL774888/F1J70Eqnm266VVddNaXKCy64gG1iyJAhQZvVyhQBRcATgf79+3/55Zeeha2LhZHs99tvv6kiacyYMRBw4YUXmm+LLbaYNUmaURFQBBQBNwRuvfXWE044Ydxxx3UrprkVgQgCr7322iKLLDLLLLMsscQSk0466bLLLltxeDL18ZkZ6CAXaMOHDz/ooIM22WQTlHEV77KSpwjUGoF//5OK7kIYyX688cZLJ/SPP/4ouidavyKgCHRYBC699NKNNtoI9WSHRUA7nhMBBNxtttnmjTfe2H333QcPHsxZkT9z1ln94r/99tuUU0656KKLco12++231+KmovqoKoWKQDMEtttuu8suuwxuUyhEYSR7rvwgNCWNHj260G6UUHnRI+HahU6dOrkW0fyKQNEIWC6TsLP39ddff/zxxzfbbLOie6f1tzEC77//PkY4q6yyykUXXbTWWmttuOGGffr0abP+Jpcnh+FTTz2VLq+88spt1lntjiJQQQS23HLLUaNGFW0gF0ayryB8oUjCW+CYY45ZfPHFJ5poIm627IsxAAAgAElEQVRpua985ZVXQlXuVM+nn36KDmn66afHxgkyPvjgA6fimlkRKA6BzGVS6OxFBTL11FMjkxXXQa25PRBIOXkKR1199dXr1dPxxx//pZde2nzzzVkCpK222ippUYP4fsoppyy55JJknn/++dHNmz7yL+4oSAsuuGC9Oq7UKgJ1RGDaaaft0aMHl8yFEq+SfRq8ODosvPDCxx9/PByzb9++cM+nn356zTXXLN9R76uvvsL089prr11ppZX22WefL7744rzzzit0ZmjlZSLA+L766qs1vQrPXCaFzl5ktZtvvhlTnHHGGafMIdO2aoTAO++8s8UWW8w000wTTzzxMsssc91110WJP+yww1ZbbTWkWz6ivca8XhLztvp9fP7551dYYYVff/112223nXDCCW+44YZDDjkkRjbiPvfq9HGNNdZ46623evXqhdaw+l1TChWBtkRg6623vvvuu4sVI9OtaDr4fxHlmVhnn322wQF1yLBhw8qHZa+99oKSM844wzS9xx578OWJJ54onxhtMRQCb7755o477jjffPOJdQo/55lnnmuuuQa/t1BNlFBP5jIpdPY+99xzQHffffeV0FNtoo4IPPPMMxNMMAGqMm5fSSwxJsyZZ55p+nL++efvtttu66+/Pt9XXHFFfpf03XffVby/mMijhudkK3T+8MMP+LzNMMMMhmxRACHTs3PJxyOOOIIvF198caxre+65J9+JC1TxLit5ikDdEUBlMNZYYw0cOLC4jvzHL15TQwT+/PPPSSaZhDvKKuAz77zzsjPhiGyIQcpXyb4KQ+NNA/sx8TdEJ8F+PPnkkxv9xK677updbdiCn3zyCZFV8ZNpdtiwWSaFzt4jjzwS+zQcAcN2XGurBQI283OuueaCeWJsY3oEV0d5zxVZtI+PPPIICzDTZ6xSsCDZc4sbJalbt24oCFiV8lEk+4cfftjkeeihh/hy9NFHq2RfqaFUYjoUAksvvTSXhMV1Wa1xmt72fPjhh6hAqhCvk+F/9913O3furKE/2uZuDj0iqm7eeejateu9996LRu2bb74ZOXIk2jX6iBEeSujWdvbGG2/s0qXLjDPOyF3/bLPNhiQ0RSQhQAh5mcuk6Nl75513om3VeJetnS3lt245P7kWe/vtt1lWn332GdetkrA4xzOEf5VPdv4WWXEI7s3qEYV9SrBLMlA2pYb8FGoNioAikI4AdnH33HNPcSipZN8UWx4BwXKXgAnFoW9ZMzoYdDMEAAlumMWBAZdcmyTGP61N9aI2HavlllsOn7a999770UcfxZ8G/2zyzz333AMGDJCt96677moh2qeffrq48M8888zIzWg9UXB+G0nm7bnMZVLc7AUf7CXwTwDM4rAiRorNAsH1pTgavGvmvsWG+EMPPdS7iZYUtJ+fRLGEwptuuglp3qSrr76ajyW8F2MPzoknnkh0GlTp6REaML8k4n4J8bDtKW+WE44BK0uZfmKkV6PEixnpq6nDei8gHtjwGfLg8dLyEa8CtegaOKIXFzSyE+f7lgOdTgAmKKgzp5lmmiLo5DIX2R3LS0TnZP1IDM8+++z999/PAcv8Fwmb8ALBiaGbhDjAJGOOOeZI6uaJ2MCN6qBBg7p3707TjBr22VdeeSWMHpWqNzEcFR577DEUxvhU8bIYAlysqnPPPZf/HnfccUh4LQ+eUC9qvQcFdzfc4BhWBtepEkYKzXrm4xKZdaLjZIYzIQnBhNE/bnlo+A488EBu9pHjkaSxbYhWkrlMCpq90ECwS6wR8GsvTrh/4YUXRAREnGLtY58dAxAGvdNOO7FjsXIzsS05A5wTDkajjOa6666LQEzk8hgNnDC5DxRhtxbJaX7ihoHL7AEHHIBYFusdxvdYu5qPnLEJr4Q1TkskTm4S4Of41bEf4WB30kknEYotRrCE2CeEA4Z8EM9/sUMjxgOUm5zcBN5yyy2///67OJTjQrDvvvuyd5inakeMGAEnx9qes0S0fnrN65jY2eNnHGQasEk9+OCDRsDgd7yTb7vtNlN5FfYUp56yxqOCKYHJcdzn5G8q4WyG24NTne2RmSfemDlMNizIjz322Fin4J/iw43qCnYtU7eFqQrUssy5Cb/jjjt69uxZCBTFGfrkr5mJwqW/qDORvNk+jRuQ8D7XJoh4jehMYAQYH65UCy20kMGUSAjYQsQqJLwxchKJ9/ngqpdffjmCNWI3G7xr07H8iAuYNsCU+c7Wu8EGG0w22WRCDIIUG7AxlJSCDzzwAP/iyIvnE/Sj5ZXMQTxoP//8c6pCV5TsFG5VMK+cnQ1bvJrU8ogjhAXpqcTdY8Fb1sZmA9/EcoZSTE62beOaA1ULLLAAoqdlVZJNNIJIBrBpU5AlI1v+JZdc4rpMipu9sAiEM6zmnDrolxlhiKFJlkU7ACwvv/yyX7XllGL4IJKDULI5XEWrtsbTMXGan6gD4LRMXaxx0qvNY2fPxsRmEWQoke8hGCs4RPBohfSaqc5NGkNpvift7OVVB5MnaWePWEMGJrNUglETeUicf/hOIDj586effgrSHVPJ9ddfj0YgbJ2trQ2FIOqw1tJQqdY5HKIMSpLE0qsgh2wttTiGcZuNzrSgEayoNQ4XeQgr++23H/enBN+FacKJiPm4zjrrAAQsD+l29tlndz3rwH8xKECEXXvttcEU7aMcG0hDhw5Fq0HssGidGNk/9dRTsDze59t0001Rk3O3i3KLYCauTcfy00HUachkMFYO+phewEnFVph/EbYM9Um0CJcGV1xxBf/C64JTDb1AxBdJLiclWjwIAkwPFGn5q2KIsaCgHmJ02NSGPxy+OExpIvdx54PJPmo8tLNips/pF4tbpASbqkwe0UtRKnqRhaCPxoXvSWuBzGVS3Oyly1DFTYVTB8NmFpSMeVLYykuojQlTL+Kd5ic6VFTFH3/88VJLLQVT5WyDSpsImMSIDIgtt6k8bhWkQjTBCN9cjrEviCkRCYU3B7Cdd96ZTTAa3RVZP30LkEuJaJ5YfjSsKPVJcreDOZD8GSTiJzdFXD+CNko0dk90H/QLrS31ox0LAlfJlWARyu6MKQWGRsQP5S6I603EWbR+yGolE6PN1RcBhD3WAvtXUV0o6MSQs1pYGKprbI6j9cAjQAH5Cb0FmsiYVtumxahRDdea7733HqVQuZkLEXn1N5lwt0Inx2s7Nq3Y5IkaWsAjkO/RspA4xki8FG4qk/XQZRhipvLJhoBonmpqwZv1oprUhtLfHH744Yw+yx73vsxxZJvhQoljajQ8HxsMd0EsEKYK+zqrJrOeWAaMkkUaGDNmjPkXRw6ujPiOmrxZhenLpIjZS9+RqFw76Je/mc6e2lAQiOFBZVOKzp4bQo6RlaU8SZjH/MRZjQBNZhPldxQlsZpFZ88xwAOK4AppbBtmnXXW5ZdfnpM5miyumpH4PQhrYRE8T8CZpYE2igMJAjF7+uDBg7HKwNQQhSUGfi0kz6NpbFPhijxbec4556BDQTLjTpu9GxUkA4T1FCcxj2rbpkhrteCuMLacWl4oQnPtSrZl/ipGvUQiYf2cfPLJsT4gGWDJin0O8grM3bKH0Wwi2cNT+vXrF/2OHZio/XCt8KjWo4iR7BHCOFpEa0D5KjtQwINEOoXVlJWb0VxNaoNI9sgWomM76qijbCYV91q8oZaMuo3UQiUYDWOZ43EARqAn3is1YHwix0hEdk7CfEFfiELRhrZy8mBej/lBOW2lSPaYA1X8CYIUyZ6jICYr5WAYpBXv+Qmf5/qXy9IgZEQrCS7ZUzlKdLaqU089FUM7RHzuk4OTXVyFsB1O3egXzC4WgwiBmF2eW5TiaAhbM8wZ7heVHKI8n1t0xojDWCyUalgaKl5by2VlJ3xaTi2hKeacc04nmu0zV9EaB48uLrgJGxK7p0Do4SKP61TkFbEm9Eso+fr06RMty320uIeWHwmH+IYSC8Uk+ii/l0+MH55aKggC3CD17t0bAZGpSIz2zDqxSUAff/DBB5ug+KaIeMuxFXHVHvURzKxTMqCbx5ieXzD1weaN7ZkbJFxp+YL/KH9a1lNCNjZUjJJLaCi9CfQC8tZYHRMXRPVy+/Oen/B5LMeiD0dUebywssPwEkUPUjLX1/k948vsLCaFqOevuuoqFNsN28VEZ4cddsB7rUyq8rSFBwJnlZjkYCrETQ5rArZseThPkyKQiQC7KlqGzGx+GfLGxkH+JjCFZduIsDYhPInqBVNrGNiL1YXnK+wAyzbLRqPZiCrApfl6661HCIJYcXxY+Yiac8iQIR41uxaB8YkhNW+DcyMTLS7hlvmCZIappWvNHvm5NsW3CfvpqEux1MO5lisFbIRcq0VC9ZApbVopgtpYu3IyTqefiURYIVMQGxV5kd58wQTTXugk+hVjzU9c/ZgbNj4kDAqrgL2EwCZJ+lEvMZqY8XlInKid0Nazrrk0530fJgA8iJgqCBnFhaCxGfpkHgjjOIQ9ScPimPkSEYWhbFY5ct7GG29s2TTHLV4hYNwt81cqG1AgwaMWsfHfcF28mesF2xIuf3BPwh4jPyxVmJ+xqYWtJoIsBiemd05TqxkmRCNlbmPDjRCcH7cya8CZgSg9jJQJhIIaAvN6caaUhPcarrpRBZbrxCuzRyhcULJyhWIaxdaIHsnbvZJQsrARmMGSVwXC7oPJtebRSljGaLrPsYf7tORpTfwrWCOIdmUOWXpbOanNPxAEp8LbU25TLVNM6kiWMlJHXp09rAdnVsvEpM/sAHgR1IxLimROVBcECeI7frSZ9bhmqI4ranUoccXQ5MeSkl6Uc0byJjKlIFsO9Isna7OEih2TKpPYw1Cix75Y0ob0jJYdsZ6rKkKs2oj11EwoJ1StiLbJVlgmsHs0TB5iPbVx/Easx+OQ7kAV1hp0ljqrJtZDqrzK3AxnOEZ0RJK/1/StIst55ZfNY/GmrBdst9jOMUHGqBS5J3r09SOvIvMzNrWYSOzQ0QmWf2rh9YvtB/3Fgsgbq1YVlDtw9FYpBOA/EGVfHhOvzN7Ro/TuwMaxyovGDEWcNcFGQ5GaXGserShjzD8c+QcCfuh66otJHckdDTnkv12zN9wpJydnPihDYZ9sTtgcKfpOuBNVYmePzj5ZSqLSorN3qtA7s7Gzh1nEKjHu0ujsvet3Khjccj0Zas2JnvTMwalNNnfGGWcwGZwiinrb2SMBiCiPgh+VsD1Q+KWhrU/mxyYec08qJEqsfW3RnDJ8KNtAIBpiz6+2QksBOzr7QpswlafY2ZdDQJ5WUuzsY9V6LN5m64XjJe6G3BUwV1FpY1ISc3Dy61EF52cRdvaEkeCWg5A43Ob5AdXCUsiOBK3igZRmdvZE5kV7EvVX9ph4ZXZQzBHPPvts02iU5+OpgvDACRY9iMmQjEmaJJg1gjIbZ2IuD6NRhpt1LbnWbFopB6iWW647dTMntfkHAgsUNn0nmu0z59XZ5z/6xGrAFJJzDHM99p0IlYQNkavzaj73GBwKrbDtEcAoE4sXXi5E78IVh5NGEwMqAtUn39GEYeFTi67Ie5lw6YwHLXsVlhtYkHOBxg5NwrwHIWOfffbhBFKRoYEzotqsCDFKRgwBDC3QNyPxIMDh3YT2pJmZshN0NZqfTv2KZuYCED94TE8JGhG1YPGusOSCbOLI7jAi+AZGSgThJZAXLIX5gLUG+zj6NaxWOPKVTJh3c/g8EAMHa4euXbviP4B/Mxp6lIy8AobFFMOEiEL0agldbZk4BiCXY+iIAhjryv+ncLUsr9nqjABOYg0fSA3Sp8pJ9iwMQgFIADKTOPdjB8+TXeLYx59BOq+V5EeAQ2T+SkqrwZJaPyMW116gxRT5Gxkd7ysc+wiQHE1YJ6fUicaI7kRt/cmMIoGXbtCMoiv1XibcIbDvStPsPWzJ8vgilhU0R+WcRrCjde1vEfnhjPJQVGWTzZTLzJOZobXdb7ZekHsgTF5eC5hqND+9e805H6dMTNV5g8U8uuJdW0sKorPHsBbvFN6KIYoXv/BsAsoLAn+xy3MfSIzpFMIy53z+DK6wEOwSM0WEeKztiYSDToFfcAXGQw99CpYScF2nOrm1oAbOvfYOdel7UyYmTuSVmTmT8swMZVJLW/kHAskeRXZBZFdOsqefeKXgzSmR+xhOLI+x0cSgFvPfaaaZBh0A8j3KTiyACwJFq01HANUC72QhlSKMYrNB4M6GT9NjNrP99ttjd0g2bL5b+DQJBipov2C77JFcmOJ4GntuCSGYqI7E3GCl8V+RSApNKHhQPUIYrQAUek02DIT1aOJtlxQaoBMrVTYGUelxk7vLLrugHmMHRb3EkuGdY+wfMO6Kvb+W2S/aJSYdWxdDho4N7RSJLY2P4iPIDbKcsVueGM0K6uwtFwiOHJyg6AJ+pTyHd9ppp8HlopBymkJuYAVxc0IG3JlKAzx98WauF5ytec1HNLIILuJcTgry/lGN5qf3eLHBAZdcX3OQ9q6ntQWxJIZjPProo4w7GzrbNw8ywlUIWg17aUgbwi7B8YghgRMRj0AlgzdkMnM4HiZM3DRyfiBoR69evQKyCHyNWIZ0gfsHRBEi3LNScEzv27evRAqOJXoBPZzQCE9M4oTDUc3kobOsEZK4JTRMmWuNUsRL4MUAaIOTYMElDxS2dugtW0/ngZaM1LKtnNmCDwRXmq6PSDp0wd5wp7ScqAlZmfQBhZxEF+Eml01OCEC8kBdzGprLpxOpdvYxfIAa0U3CfRC7gN9N1GS4IX9ybYo6gV+YhaYsb6ZwYGXnxvIYBQyiCcVhwSaDWEyScJ6D5SHfs0XB5aMvH3lMJz9qUYpzCwQx6A6xbNt///1ZTkwhE3gYgxZxe+IdWQ4AJuqok5090UudnpeP6dobrtjMN5hgi4DP9sBPEOZYYp6RoncUF71C0pcjBXwuCsSthx2rYTbBhxtkjxEMXkRmGpt98JpNhXAeRpaE8QACh/yOMjKlxcwFQlnu36GcISO8GDsxzwbzZ9SKF5Mnjs3c5zAnSRz5yEDUUaeegowQLMH40JLKnymIZS5em/XCPISHc3alUWy6+F1S8u0Fp+6QuZrzE1Ev5QU31z6Sn5nG6Qg5GGmY+zGPGqpQBKFW5huJKFXcQpg/+SXmLycTD20F3Piggw7q0aMHnA3pXB6UlJTJzFmYsC8Eeo5/aD0kOjY6HY9nPZIAsn9F6YdUzi3RLzGvJAQYEuokLA6w5BF3YdwnkjVLgB3mduxfNmtNLDo4QvCsMmodjkP8STTkMieA2N2xgaKi4he0rtI6Bwz+fOCBByAJXxR+j/ohZPJAG0bq0U0PaosYCOY5EpQH/TZFqvhSldCNWQImCjA1mKZNT2zyoDlmhiGtJjOX7EFrQoUOHz48RkyZHrTJAA7okoUezKmj4ibv/ho6kXUg0vyJmTj8F2zNF+HR2NQaTsc9Jl/wlLAZpmZ5/KhFXxKTmdCaEFrUtMJFKhmwYzFfeLCML06SfZ5+5SmLrScqMSxwuL7PLzZBCZp+GXfDnaPkYZkjAarZevOQHaqsxF9Kl7NztmVOetHlgMYxpdrMBYIiFjVb1L+Q2tD8mW0PQYT/ItZHpR8UeyjvnZ7CwQi44aGRi9Bm9GcuXvv1IkaVxDzJOQTR4vWan94dRyRFRCMKHHMAqcK7nhYW5PSYbrHA1WKUPJl4KIzgz/IduYcv3A+bbJnMnJy8DhtdI7vuuiuVsOHmhyIa1bThsooxImRuBG7EGGkaXs2jBJw6kpQ0k+xt1hqtUKfRK2HyJNeARbzI1gxDxIMoIIj4kjN5R2feVs/kgRTPZKR+Y+pBbfCBEGRuu+02vy5klqquZJ9JumZoLQJMTeyjUCIiB6OWwKrS0JOMcgC7YR6jhimZZiQkLkkRiVLaJSwx26fET5TkERun5H4V1xzCJao1BouLDi7QuboBGYYP+yU0x2gQ+RdCJ867xdFgX7M4EKMTsi9SWs6UBSIB+M2WnySJgIBkwBQHQdYkdHJ8jB6qi+hL5uK1Xy9FSPb1mp/eA8QEQP7o3r17EJHUm4wyCyYnHi/lMeGPPvpoIcOGmRuCxaAXXZLYMmFCU2ZfpK1k1Jpu3bpx2kleIDST7G3WWrIVIu3QZdwbyu+yfYuZPNBUlcJI7ZvLmTP4QMilPZqynIQ1K15FO/uGp2H9WB0EsNPgigMhD6tBFCTstagS0x9cQLxGi1B+kAcEUDQlvBrTDD0WBquL8JFt8IxAkBnC9QsHNlwjuATH/oQbQ7TLWFLhTcGzGkjSXM4gsTWMox+EAKdKsGbhSBlzuHeqoYjMmQtEfE5S/O3eeOMNMmCOjFWGSeLNkoyGVEQXonVGF2/L10u95qf30KCwx3ph0KBBFXxEwrtTrgXldXbkYCmYycwlG8sE0zX4FVonNMTif+z0HpArnfb5RWFvaQTvvdbkWrX83dYeB3Jm8kDyZDJSpxa9MxcxEJzYkaDETriIpJJ9Eai2eZ24KyBLsfGw8FCr/Otf/8qU87CP5IYUJ9GSoYHHIZhGnzmMEYAGBZ2HeESVTFtlm0OxhEUpUgVXkJidYFKPtzRSPm/mIXESwC5zuMvsGhdBVXsXNnOBCIApMQDEd4UQe5g0xBKWrGXCS1vRxVuF9VKv+VnyYLVxc5nMnL7j7oVxNvF5sRHFshRrB7GjqGPyXmuy35W/2zqBnMkDqS2TkTq16J25iIEgMp798+celIeX7Lk6YUVpZFaPwahFETQB+AYwKTEVwGoQmvnSUI+Istz0qH///vxevv4JH0RUnljMx4S/aKAetgGmq9H7ckAnvGMtxqI4IsENSwAspHHSxfwDc22euMfsVfw4K5XwPcVFmAhiFaHKZoGIhQAnJaOPjK0jXM8JHkC0AMR6lI7R5PpsoR8sKYu3CuulRvPTD38tlUTAhpkLnycyLzGypQYxbKtpslxreFqzbUkf8VIgGIZcZla515k80IaRltbBsAMBV0cmIWpTgfSHsvLh2gtvdCIuidMMPxECeLaNi6dQTWg9VUCAa03ssAngxeCisCfigcRkJci0IU8sJjG/IbwDgRcJR4M4QgZhQCUnXIs4gZBw+uSRFCRUZFZsb4xntnjuEy0HVy3MMdEBy3qrhQdtyWBWsDkuWzAGY2QrQpvNAoFUidpBcFLe20bRiA8Dd0eYt5lesD2TgeeEL7zwQowyMcrHfZDYrEV3M3Px2q+XIuzsi+6+1t8qBJJ29qJhicYPyWTmhI6lCOuIuAIEgsQFWZg5MQbK71fSAl5WvQkswdGdXpOIact3QrfJn2ajtFlrEhuHGKm8n0WS2DjRx33L77hli+k80JKRWraVM1vYgeARN8xcg8RratavMB607DpY4soSQoTCSNecRfBMz4mpFq8aAry0J5Z8InmgjyeSOnd/hk5UJvyLn+JwSSLyXTR4Wck9QqcLASZQA2eMmEMVvlbiNkoe7E8Q8fm94/iulTwcwZvjBmmjjTYKXq13hZkLhJq5JuJUbFglMTS4BMNfOdooDg94bhleyu9MVG+qLAvaLF7L9SKSfS2EDEtwNFtxCMjEQyI3TYi3SSwyYDozZ1nBCmTJsKYIN4mCht8xvi+O8mY1o//CjjH635hkjybUrO7oL9H4BJlrjVZ69+5NEHDZ4FBzcDYov7MeLWbyQBtG6tGuX5GAA4G8RBRUPzIsS3UiX8O5Zf+RuMu8t0x+fhLdnPDn3B0Ts5L3FyTmGga7aEntK9Sc1UcAr1kifCENi0Fws8SNDdyZyDOklncKRQg048NkjiVRkiB15MiRcMkqkNpyrOpFAKb/PXv2RCxm+CpCueUCgf2yixOulBvOZu/SY9+I4Sy+VlGNSQndTF+8ul5KGAJtohkC6cycR4VIyM1iL1r3ZLnWsMOBB3L+x7WsRl1O54GWjLSc/gYZCJ4MQgjBzl4uagpKASR7KONJCKYU7w5ENye2KyYZrnhERRQza02KgCKgCARHAIbLk5PEeuMJheCVa4WKgCKgCCgCikAQBHijiWCsKBmD1NaskjAetJhT8wJfTOeEQperKBrG4bLQPmjlioAi0JERwIuDlx2xMe3IIGjfFQFFQBFQBCqOAA6KxfrO/tP/MJJ9Mygloqoxtq444kqeIqAI1BQB3Pcxo9LQpTUdPiVbEVAEFIGOgAC2Ury+XHRPw1jjNKQS9wiiprDX8qInYUmK7onWrwgoAoqAIqAIKAKKgCKgCHRkBArU2RP5AbEeEx380zsyxNp3RUARUAQUAUVAEVAEFAFFoAQEipLsiV0lkWUxwa/g6zYlIKtNKAKKgCKgCCgCioAioAgoAmUiUIg1DpHLeQD8o48+WnDBBYcNG9YekafKHBVtSxFQBBQBRUARUAQUAUVAEXBFILzOfvTo0YTEQaznkS1eWlGx3nVINL8ioAgoAoqAIqAIKAKKgCLggUBgyf6DDz5ArEe458Xj+++/n8c+PWjSIoqAIqAIKAKKgCKgCCgCioAi4IpASMmeJzxXWmklTHGmmGIK3p3FFMeVGs2vCCgCioAioAgoAoqAIqAIKAJ+CAST7J977rkVVlhh1KhR00033ZAhQ5Zddlk/grSUIqAIKAKKgCKgCCgCioAioAh4IBDGg3bw4MGbbLLJjz/+yGMxvJ0766yz/vHHH1FqJppooplnntmDPi2iCCgCioAioAgoAoqAIqAIKAI2CASQ7F999dUlllji999/T2lvrbXWQvq3IUjzKAKKgCKgCCgCioAioAgoAoqABwIBrHG+/vrrdLHegywtoggoAoqAIqAIKAKKgCKgCCgCTggE0Nk7taeZFQFFQBFQBBQBRUARUAQUAUWgCAQC6OyLIEvrVAQUAUVAEVAEFAFFQBFQBBQBJwRUsneCSzMrAoqAIqAIKAKKgCKgCCgCFUVAJfuKDoySpQgoAoqAIqAIKAKKgCKgCDghoJK9E1yaWRFQBBQBRUARUAQUAUVAEbiWeI0AAB4KSURBVKgoAirZV3RglCxFQBFQBBQBRUARUAQUAUXACQGV7J3g0syKgCKgCCgCioAioAgoAopARRFQyb6iA6NkKQKKgCKgCCgCioAioAgoAk4IqGTvBJdmVgQUAUVAEVAEFAFFQBFQBCqKgEr2FR0YJUsRUAQUAUVAEVAEFAFFQBFwQkAleye4NLMioAgoAoqAIqAIKAKKgCJQUQRUsq/owChZioAioAgoAoqAIqAIKAKKgBMCKtk7waWZFQFFQBFQBBQBRUARUAQUgYoioJJ9RQdGyVIEFAFFQBFQBBQBRUARUAScEFDJ3gkuzVw4Ao/+kwpvpoAG6kt5AWDkqrJ///5ffvllriravfAvv/zSr18/frZ7Rwvv3/PPP3/vvfcW3ow2UCICyopDge3EinUphYI9fz0q2efHUGsIhsDff/+98847Dx8+PFiNZVVUX8rLQsihnX//kxwKdLyst9566wknnDDuuON2vK4H7vEnn3yy9dZb6xkpMKytq05ZcUDsnVixLqWAyOesSiX7nABq8ZAIDBky5J133tlkk01CVlpKXfWlvBR43BrZbrvtLrvsMnZot2IdKfell1660UYbjT322B2p04X0tUePHuOMMw4npUJq10pLR0BZcUDInVixLqWAyOesSiX7nABq8ZAIIK8sv/zyM800U8hKS6mrvpSXAo9bI1tuueWoUaPYod2KdZjcr7/++uOPP77ZZpt1mB4X2FHE+q222or1W2AbWnUTBIo4vSsrDjjdnFixLqWAyOesqjaS/e+//37jjTded9116HSTfb7vvvv4V03ts3MOYdsU//zzzwcMGLDpppvWrkf1pbyaUE877bSof1TYajY6XGhMPfXUq6yySjWHr3ZUbbvttpyUOC/VjvKaEvzjjz8ec8wxiy+++EQTTTTLLLNwSfvKK68E6Yuy4iAwmkpcWbEupbD4e9cWQLLHQvG2227D6HP77bc/6KCDLr/88i+++MKboGYF8ajj+IhB5COPPJLMA5vgX2eddVbwdrXC0hC44447OL/V0RSnvpSXNriuDbGc7777brV+TuKGmvPmm2/GFAcNmSuqmr8hAkssscT888+vBjnlTA+28oUXXvj444/ndNq3b9/NN9/86aefXnPNNYMsdmXFwQfRiRXrUgqOv1+FeSX7G264Yc4559xxxx2feOKJCSaY4I033jjkkEPgkujX/QjSUh0WgTvvvHPZZZft3Llz7RCoL+WVhVp2+ocffriyFLaKsBdeeOGjjz6q49VWqxCzabd79+6cJG1yap6cCOy5557vvffe2Wef/eCDDx511FH8MmLEiEGDBiE/5KyZ4sqK82MYq8GVFetSCj4EHhXmlexZjdtssw1GsYMHD7744ovvueeet956a4011uCcF+p+zaNXWqR2CHA/+9BDD9VRXqkv5VWeJFNOOeWSSy6pwlZyjJBdpppqqtVWW63Kw1c72tiziNk3ZsyYqlEOSU899dT7779fhEl6+Z3966+/iDG64IIL7r///qb1KaaYAsuc/MQoK86PYbIGV1Zc2aVUBDiVrTOvZM+l8KmnnsrYmx7y+9VXXz3XXHMdfPDBle22ElY1BDgZoqOtoymOK+UvvfQSPiF4FCSH4OOPP+ZfpK+++qpqA1Q+PewQaArKb7fiLSLZr7/++pbxLnWyWY7mSiuthHXTwIEDLfOXkI177y5dusw444wrrLDCbLPNNvHEEyMBm9StW7cSaAjexIcffvjDDz8stthiwWumQidWrJ579kPgxIoruJTse9o2OfNK9gYIluu3334rf7Lr7Lvvvmga2gYm7UjRCDz55JPTTz/97LPPXnRDwet3pZyrLW609tlnnyQlL7/8Mv8icQkWnM7gFUrHM9Ohhx7q1zRqaeSA0aNH+xVvy1Lffffdq6++utxyy1n2TiebJVCTTDLJMsssg02pZf6is51++ukSlmTmmWfmIIem7Oeff2aHNen7778vmoYi6p9uuuk4QXEFUUTlTqy4nTz3Ntxww0w+TAZvB0gnVly1pVTETKt+nXkle8LRMKswtZ9ssslQJ7Bu2cjhPpjaw3o+++yz6kPQoSjkSjcsV/3jjz+8+UUUeZSLORU5PJMxdOjQr7/+uuQBzU95yQSHao4r9Wv+SVdccQUrHe95+TOaFlhgAcbFr8V55pmHgsDrV7zQUkx7jDewPPzzzz8LbShWOWc/lnDOlVImwaHaKnqyQSfzrSKT7e233z7iiCMgiTtM5thdd92FAxvKMr6ww7LWmAMVIbXh+KawYsx3sbLjBIWRfbRskMBEHZYV464gXJd4WUjwST58yimnMG3QC/itR1dWXJ2l5NffdigFj/BLKOlxhenUqdN6661HPJznnnuOdXXOOecQJgkXCnlGdOTIkX6VJ0sZ+QD7vGcTCQGC5tBthGqu5fUgob744ouWZPz0008odQg4deWVV2LT0qzUr7/+2rt3b6LFY+xoWXNKtvPPP58bYcKWgTwmWDvttBM0S360zieddJJTE5gOcya0L0Iw78knnxzDFS5ViYy00EILmdWIG27AiZdJkivlu+22G6QS6y1Zs3nlHi/JzHZzZmCFEiEuZyVSnCGgR8QNTNZGZzHY82vlt99+g70cd9xxfsWllNM6atYQw4HagoAeZID3bLDBBigyZL5NOOGEqFeR7/MQaV+WRTfWWGPBey2LVGSyBRmFQicblR955JHjjTces84S2+KyyQPM6LaxyjOtsMrkoY9LLrmkuKY9anZlxexr4ExCF0A8IoQHBAbeXEO492g9WsSJFRuJ4l//+leyXS5wSpMoArJiDoSrr756sjvSWdELeCRXVlydpeTR2fYo4q+z32OPPbCnJ+HltsMOOyy11FKLLrrofvvt98wzz6DNEpUDYa2Cn344PLDqYgnn+lhD2DHff//9wVsvrUJiBay11lqWzcEWQR5fq1133XXeeedF3k0W5LxOjHBgQfpHYLKsuWE27oV524UW0b7cfvvtcGqG+9prr11nnXVYFYwFBDjZ1XzwwQfsYU6aSGQFrobw0l577bUR/jBRkDMGCc39qquuyjEmTx8ty3pQbllz0dlwViZ4YtGtsNd6mw1g1IeGMqdu0mkdNUODCf/NN9/wkgamzyuvvDI6VM7SYunOv4gG1r9//6KRlPpBY+6558bkupzmQrUSZBQyickz2agcuxckmCDK40xS0zPImy1Y2Ecd2BD0GXq+Vy00hSsrhs9jqcsOTpRquBCB9biRQJCYb7758uCmrDgFPZlIpbHi6iylPDOq1mU9JXvkOW58iFeFdjbW/znmmOO8885D3Gf7gdUGR4cNlRu9WEqKqtgxI3oGb72aFaL/2GuvvfAfIpoYmkUG5YADDoiSihCMXwuqR047BLHK2QuwJWwwjxhwykKwhlMfeOCBHBgIS4wO5sQTT8QWq1evXvatEMWPzHiJ2ReRnHhvExiR6Ex0nMAIaCZ69uzJdypkfrrW5pHfm3KPtupYhB0lT5hqdoiwxmN5MESax/SZmyLkewR6/oQNTjrppDIP89RsX5b55rFM7Ouvdc78k43uV2G+oSODEvzpP/30UzMirCMkYP4U04iqJSdWjEqIKz6untAi00e4N6qinD1SVpwC4Pjjj4/mqzRWDN+uyFLKOanqW9xTssdsC0uMXXbZpWHPuZ5Dpk8JTE4U/FtuucUPtYsuuohtNZaWXnppj9ow9StN2eZBnkcRrms5U11wwQXI3MZHE5tgVCPsE0OGDCHMQqxaVjtKIMQUy+bYXbCrxrAP/4poER4c4VDXr1+/m266CfMYbAYsKySb+F4jM9kXkZyc6GgRfY9cEcwwwwzc7YpGc9iwYa61eeT3ptyjrToW4XQdM6h16gU7BMpypyKFZubYzA3VFltsgQKVhKERJ2paRKoox6eI+eaxTArFpDqV559s9KUK8417IdwQMfHCeBKTOaiCP3MfixDMrMPcojqYG0o8WDGy5iKLLMK9XJDuKCtOhxEGlSdUrhMrFsm+CkspyNSqYyUO4pfpHgZ/yIKYXjTrMGp1tp9ZZ521YQaEcow3VlxxxZbjtfzyyyMB4yPfckrCEoC0geIckVfskfgTEymixcdiBiPTo91npGCv/ETbbeNhw6EO3djee+8doxlRnmsBNDH4unG0c+qRMGVMmZ1KkRmDpT59+kRLcaSEAL6Uo3vzppwrbFxTYgn3AFcEKp4fVoC6yJtIp+3EuxX7gpdeeimnx2h+5rz8Wdp881gmOtlshrg64ghOkBjTQzNMG50FXmTQJpeQZ555pjiVVS3VlxW/9tprSVbMfULVEM5JDwqvPFa4Tqy4OkspJ2j1Ld4Jw2hX6rFpRneFbhjf2YZlidVFIF6E5ob2MDicofdFtxori40jAui7777LBTcyKArgaAaMyLE75Av+LjhrxsriNIlnGx60mMDKv7gxwMuNRUtsAf6FXy+GfclNEUdPLLwx+HMFIZofh1QnFXXDttCsn3DCCWY4uKbEugYTXpMZo5eNN97Ynk5GB0lxu+22Q7+O8Qxuf7GywEW8cFRBWNQQLwzbqq5du2bGKuUYwA2J+HjFEg+Go63HIMc1LP1ll10GGZjTGFv5zG5iU4QymD4mHzOip3wkSgB3FKYexojf8w9TjDAPynfffXfZtlMSdlM8050JglMG4HrsscdMEXwxWTUk8wULLg+pkeJMXSR4DnXBj+scUHGiEA9dyxR8HdEuq0O6hgcRhgRRSrgaki+PPPIIqlZLIr2zsWWix4WFWtbgMdmqyc1Mf50mm1Nf4L2cQo8++mj8/yzhJVtsWSULeiwrlF8o5jFu5IoV83GMDBl3THQOO+ww+4CnMUqcoLDvPjldWbFT5faZXVmxkShSmohKFPaUZOYsjhUzdRGi8lyTNiPeiRX7LaVM3DSDPQI+OnsRv1I8FLFDRUTYeeedk3Sg4zzttNMwy47+i6tGZiTKMLZGnHExHcFVCBnRvhsNc6KBRnmMVSKaaYRXosckH6tHn43rJ2GzvdvC9AUH1qgQ6VcVd6/EAjPpzTffRKCJfXGqmeMK9osAe/LJJyfFek4OiPWgjZTJgYHMRCpgL0lCFG2UFUtENoKcJimBfs4PfE+5zGlGP7s1//I4ZDaskOFIfufOF7daJwBtMuehPOkugr+ETaN+eZgM0emE9ICjXuyLX83FleKQ73oYC76O0nvXcLIVBwjzzW+ZWE62ynIzD0hd+4JGk63Ndb7FllV0QcnvLDRX4uHMsGKCUlCc9xzQedEK3NVbrHeFwpXgZvnLXB3erNjScy8UJtTT9qzYbykFRFir+o845ZrYO9Ft9O3bt2FBZi38sVkEQ/wssYGJFURrPs000yCF87wi0sYDDzwgQQDQH5ucrjGqiCpIDVxlcsxAc3/GGWdgoYh4h2I41jo3ABw2XEEw+XEXpiEEYu8aGha8/vrruWfIUycGmgwENlENK5H3g9A4mv9y08KC5DyW0qi8vo7CPpkH4x9ZTiiZXMmmsxTkdsW+IK/iUQSdfbKIOACgs4/+CwsiDCfs67fM6UF5RQIRcuK98MILLbuZni0l6mXO+rkFQkeQp5L864jWzQNG6OxjxJjQPejs89BpWZZRQ2dvmZlsrpOtstzMdNl+snn0BUn03HPPtYe3oJxCOYcxJh79zd+KBxT2jbqyYvuanXK6smJXicKJGKfMAVlxs6iXTvQ0zOzKiiuylPJ3vKY1+Ojs0WoQPxFJTuS8aEKaZOMh2GWzuDTI7ridxUohdWGEQww+VMsY4cApsOQhT86wlbiTirsbhokopPH3xYkEAmKtIwgaG552OupxfcZlCHJ2w5ekMAtGV4GFD4OIRoc/ibnBySfdXBgrdkYffX8MKAy0Dj/8cDEW8ni4SoxA8PGtHf71pbwWUHPFFw38VwuaCyWS+VbHZVIoJqEqx7QapVUV5htGIHjQ4geFDRjm0dyRcuFM4tUOrrUJjYDFRahet009yooLHUonVlydpVQoJlWu3Eeypz9I3jBB+A66arFgJlQqQjOSIjMAXXvMz8xAgIU9QXWSiHDtjohJ0BXMYzAx5A0s8uQxkqE4XqFRu2Gew+AjxiSx1jFolmhimYnTW2aeimTgpEQQIUznoRmxO0kV0TyQ41HSY66DO6wE0sFzKx1zDgN4UKCejFZIxAaOZBwMxHw8GqnNEg3ZTb0fK7VsxWQLOI71pdwVtOD5bUYBZlJE5NzgfUmp0Kab9vQw30pbJvZUtUdO8Yavwnzjqtn4sGGKAzPnKpvE5TOuMujUsL9vFlwu7Hyr0cgqK/YeLJs548SKq7OUvDGpe0FPyR7Wg1sqJjRI4WgX+FMM6yU6iljCNExsS8n/MrGOPfZYfF4R65EssSYUyV7ODJLSzR/l1Zj0JMEQk481IM4SOyLllXgu3LnURnFCK5xYiNSeVJtxWbH99ttzS8BxApv+lj93gjMuOh4eJOeNzIbx+JDpZT1LvEgJZMSXTDNT6iQyEmcwyc+9CkcjbByxDWU+0CjyPaEGMA/NGpD/93+ZEkUrIzHHwqeC2QUmvIqC83R0gtlTG81ZDuU2M9CP/vJLOfWFGyTxm69dcuqmfe+Yb0UvE4ipGjezxyeZ074vcl1ZhfnG400YkWK2yj7CtbM8uY7lPR8lpgKMK+qFjyn/xRdfjB8Ruw82PMS3IBBwHijyAN6qsuWwYqx58QAkwgeWrrRIrIiqPRxmj79TX5xYcXWWkj0a7ZYzjxUR/AWr+nvvvReBCbW3TVWYlBH3I5aT8PbAylsV5tV0mRkwOJs6G+Zh1fFeUvRf6LCpEw/6WH601xz3mzWEjh9hF4EeYniMQ+I5srDNe/JiwkgiaAy+B8j35JcrCG/iKQhPJ3qJdw3EUkBhD8dHgidQTLIejKaQdBlB/oUULhk45HAsSW8UHZIY7wKaXIkQ7wx9kpRi76ESPja0gE+pmdoOPvhg+/66GneKRgf/kG233ZZrCuYGfzq12Iw2V8pdTZ8zZ6A9aNGcBHBEaPArK6XYGKiBxEFOVpb8mXRlMa249oWjMpajeYjMuY6kaVc7e9du2ndQuE0KwrGqXCdbNbmZ32Rz7QsrApYIz7QfjiJysh+JeoUzScP6JdAqoXLMfwmABp8nWjmLhUhoIuPyjJrJ4AqFU79cWbFT5U6ZnVixh509hqZcWYMtCk3szvfff3/Ogex3OedMflbM/iu8l5AYhOqS3+FCKei59sWJFVdkKTlNnjbL7ONBmwcCFN6ErYzVIEb5UTmD147yS/booTE0l7aI5EOYczgmF5qx1jmZsFBTOkWG6NIlPiO0oUGRIsI0iapuXJ3ESQC78zxA5Skrr/Fhizl06FA4PgH7k7VxCCEPMpn5F9yBzIgCNk3j7YpfBDfCSE42+TPzYD9KCKPMbCYDJxDox7I/WaSZBy3HMzPHuLph/0N5z2sa9o02zOlKuauwRaPpMzAn/d7Fm4VR4hrHezVFC+JYzxDz1LE3haEKstjl9D58+PBYnc08aAsaMonBlb5nRyl0nWwV5GbSHY/J5toXLBLRdoeaM971oPmSyWYULtGqsMyRp53wHIuybuah+ZNYCFwvR3U0rlA4Ee/Kip0qd8rsxIo9JHteYwR5sXGVxG1/NAqFE7UBM5tXNWTmSEqGKom26NQXV1ZckaUUEOHaVeVpjROdQE6/Y7lh9kJTUJ7LhlWxHV533XXoxXnF3anahplR/CPNw9QIyMOaR6ZH75585oPdOhajOlYb7sJccWKtTj0IxNRDBjhsNBsiJvoe+SLhPpPdzN8jyxrk+VV8HjDKpL8NLUfR2ZOHQBCmTrkiQLy2aQWrG4aJ+KSYtdjkz8zDjQf3P5nZTIb77rsPahH7kkUGDBjAv5JxSJlmYCL5MSHDtZoDG9FF7RttmNOVco/mbGagR7U5i3D735DfEd86pWb7voh/SOx5tZw0+xXHgkt6iuQXq8GoTmPB7O276UQSk438TivFqX7JXCluJiT5TTanvjDfqjDZmGO8xALlRPdix0EA5X6Y22zIw2aVV1mwroT9RmNUEHaCeYiUOXDgQOIXE+oNyT62QzlB4TRnPFixU/32mQtlxdxvI58gUaCqNyRxa12FOfPoo48mWTGvcDSDzrUvrqy4IkvJfua0X86yJXtkaBTJMRyJWoONBFqZddddF2sWXDBRkqUY69sMA+pndLf4+BI7nysqFCGcIwkCkyyL3jpdssdmEaEQhsv7fwiCEs4/5fUcpMZm1u02lOfPI498cY1AeBzk14YVIvGzf3OOIugnrs9Yz3MEQjoJ/tiQZXcQnhgI7lgs8+fPJqqvhk4ITpW7Up4S47mZu4jrDHSiv+TM9n2BCeC5IdfftUv23XTqGqd0IgLHXNhTavCYbLHaWs7NnPBJz5zSFzyFCGnKG3wBm/OrCiaAzxIW85zf2LmwgkBnhHknGxCvtnEBi46cCSDPfErCbofNjsWCRSvSJwaTOJWlv+/WTsNqcHBixa6ee3gAcr4yuiG/wa1IKde+OLHi6iyliqDdGjJKvmVg1JGSk2GhIQPDL5TNxtQ+FGHYXaA+b2YJR1BIjhApdquiFSZSJ1ecQpK8x4Q2Rf5MhgqGz5IBlXaoLnjUgzKeyzjeLDT+AMlKiKq2zTbbiDTJ5sHeAFYebQUpwujDagcNGhSktmQlyXj2uGvT8aR1lisBRVOeOQNdCW5hfqe+YDeM5VsLqfVu2qmbrq2goeDlYNdSlvmryc0siY9lc+oL15sog5B4/NoKXooNC2YIj4KNo4/nygIpH00NqqVkW+iqOQng44TRqfwXAZTQCCanExTB+1JahYWyYkaEXZLIfqV1p7iGXPvixIqrtpSKg7HKNZets0eHhGs570YlzzFEwediSyLYBEwoJ+CMmNM0rBObeF7/FjV8wyQPNRNojKiOkmHEiBHJnBxIzMf+/fvzu/d7gUH6jg6ey7hTTjklRTOBOymaRV7qxbsfc3OMWMAqSOselTD6yCtFPIttiBGnC/mTm2v8tkUD6kFttEjRlFvOwJy9KKe4fV84bOO3iltOOYSFbcW+mx7tcrGJZkTiyhWUqsbN8nTTsi+DBw9GaIsqwvM0mr8sGxZhmrlkho2jmeJC+/LLL8dBVixXo4lbRwxKuYDlelYeseYLqv3qb1L5UYrVUCgrZkS424cpxTaplsfB84DRqS+urLhqS8kDn3YoUv6xAy0yOgasAMtvOtYi4h2M0njZNqQHm0WGmVtOTNkIAbTOOuvIqMd09pjfoCBHOMYID2EafUl6tS3vewUJIFInT7EURJjExuHwcNU/SWLjEC4pSHOFUp45A4N0oZxK7PuCxTB2CCk3TuUQ7NeKfTc96ueqDfXHrbfe6lE2s4god9uDmzn1BTucUNwgE+SwGbC6wS4fofaaa6556KGH4EXiWJXU2bfHsKajVygrJgADZycSPoEsQM5anL5QVoYKIxF2YqTXZt8XV1Zc36VUJv5Ft1V2bBzpDzqnhreKRfc2Vj+nC26O0hvl3so8mouSmyeZJAQe2m4piDqfP/mJmaMI/ZiqYyJZcl/aoDk0T6DHA7dF9IWdD6dhYnFy504ryEZs/KEaKpTyzBkYqhcl1GPfF3xv8BEsgaQimrDvpl/rKGhhSn5l00u1Ezez7ws2mYhr2HIUAWkJdfKGungNkYgIx6UxywdvK9O0PRQlUFtoE4WyYhFd2N9lE5HjE75qhfaouMot++LEiuu+lIpDu+Sa//tcUTvcPhTZB5x6ScSBkevOhgl/c4L6T/tPKpKWdq4bEyaeVyS8Q3Gd5KKGt37mnXdeE8soSFtFU24zA4N0pIRKMvuCuTAhSrnVJRJICfQU1ERmN73bJRpJz549mcacV70rSS/YTtwssy/csXAli+9pQWCWUC1es8RCRXmfHnkiE4oSSC26iaJZMfRzIQ/a8ChzoCq6U8XVn94XV1bcBkupOKjLrFkl+zLR1rYyEOB+k7ii+LGFFbtLwL2+lJcAjmsTvJPAcxDsna4FO0h+5DOexCbqF/GvOkiXC+0moQyxpSScQKGtaOXlIKCsOCDOrqxYl1JA8PNUVbYHbR5atWzbI4DHJGbEKGtr19P6Ul5BqLEYrqnvbDlg4snDoxm4i5TTXHu3QkA2jCfleTtNbYCAsuKAg+jEinUpBUQ+Z1Uq2ecEUIuHRIAgRUceeeSYMWNCVlpKXfWlvBR43BrhxsbyxTS3etsoN4/uYfXHMbiN+tSariDWc/tBwPjWNK+thkZAWXFARJ1YsS6lgMjnrOr/Appc9D2iTWaJAAAAAElFTkSuQmCC\"></div>"
      ],
      "text/plain": [
       "-Image-"
      ]
     },
     "execution_count": 26,
     "metadata": {
      "text/html": [],
      "text/plain": []
     },
     "output_type": "execute_result"
    }
   ],
   "source": [
    "dtPi$RHS[-a, -b] // ScreenDollarIndices // Rasterize"
   ]
  },
  {
   "cell_type": "code",
   "execution_count": 27,
   "id": "01c379f3-515e-4e21-b72b-e9178ee1d12f",
   "metadata": {},
   "outputs": [
    {
     "data": {
      "text/html": [
       "<div><img alt=\"Output\" src=\"data:image/png;base64,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\"></div>"
      ],
      "text/plain": [
       "-Image-"
      ]
     },
     "execution_count": 27,
     "metadata": {
      "text/html": [],
      "text/plain": []
     },
     "output_type": "execute_result"
    }
   ],
   "source": [
    "dtPhi$RHS[-k, -a, -b] // ScreenDollarIndices // Rasterize"
   ]
  },
  {
   "cell_type": "markdown",
   "id": "dda21578-6585-4329-906d-5b85eeda49bb",
   "metadata": {},
   "source": [
    "## Write to files"
   ]
  },
  {
   "cell_type": "code",
   "execution_count": 28,
   "id": "08c8fe34-4bdb-4cea-b784-38e5cf70c246",
   "metadata": {},
   "outputs": [],
   "source": [
    "SetOutputFile[\"GHG_rhs.c\"];\n",
    "SetProject[\"GHG\"];"
   ]
  },
  {
   "cell_type": "code",
   "execution_count": 30,
   "id": "748d8843-a442-4ba5-b75d-0ecc4e7c100b",
   "metadata": {},
   "outputs": [],
   "source": [
    "$MainPrint[] :=\n",
    "    Module[{project = GetProject[]},\n",
    "        pr[\"#include \\\"nmesh.h\\\"\"];\n",
    "        pr[\"#include \\\"\" <> project <> \".h\\\"\"];\n",
    "        pr[];\n",
    "        pr[\"#define Power(x,y) (pow((double) (x),(double) (y)))\"];\n",
    "        pr[\"#define Log(x) log((double) (x))\"];\n",
    "        pr[\"#define pow2(x) ((x)*(x))\"];\n",
    "        pr[\"#define pow2inv(x) (1.0/((x)*(x)))\"];\n",
    "        pr[\"#define Cal(x,y,z) ((x)?(y):(z))\"];\n",
    "        pr[\"#define Sqrt(x) sqrt(x)\"];\n",
    "        pr[\"#define Abs(x) fabs(x)\"];\n",
    "        pr[];\n",
    "        pr[\"/* use globals from \" <> project <> \" */\"];\n",
    "        pr[\"extern t\" <> project <> \" \" <> project <> \"[1];\"];\n",
    "        pr[];\n",
    "        pr[];\n",
    "        pr[\"int GHG_rhs(tNode *node, tVarList *vlr, tVarList *vlu)\"];\n",
    "\n",
    "        pr[\"{\"];\n",
    "        pr[\"tMesh *mesh = node->pat->mesh;\"];\n",
    "        pr[\"int ialpha = Ind(\\\"ADM_alpha\\\");\"];\n",
    "        pr[\"int ibetax = Ind(\\\"ADM_betax\\\");\"];\n",
    "        pr[\"int iAdgtt = Ind(\\\"GHG_Adgtt\\\");\"];\n",
    "        pr[\"int iAdPitt = Ind(\\\"GHG_AdPitt\\\");\"];\n",
    "        pr[\"int iAdPhixtt = Ind(\\\"GHG_AdPhixtt\\\");\"];\n",
    "        pr[\"int isrcSdHtt = Ind(\\\"GHG_srcSdHtt\\\");\"];\n",
    "        pr[\"int fc[6];\"];\n",
    "        pr[\"int ijk;\"];\n",
    "        pr[];\n",
    "        PrintInitializations[{Mode -> \"MainOut\"}, dtEvolVarlist];\n",
    "        PrintInitializations[{Mode -> \"MainIn\"}, EvolVarlist];\n",
    "        PrintInitializations[{Mode -> \"MoreInOut\"}, MoreInVarlist];\n",
    "        pr[];\n",
    "        pr[\"TIMER_START;\"];\n",
    "        pr[];\n",
    "        pr[\"/* compute */\"];\n",
    "        pr[\"forpoints(node, ijk)\"];\n",
    "        pr[\"{\"];\n",
    "        (* parameters *)\n",
    "        pr[\"double interior = !(ind_on_nodeface(node, ijk, fc));\"];\n",
    "        pr[\"double gammas[3], gamma0, gamma1, gamma2;\"];\n",
    "        pr[\"GHG_gammas(node, ijk, gammas);\"];\n",
    "        pr[\"gamma0 = gammas[0];\"];\n",
    "        pr[\"gamma1 = gammas[1];\"];\n",
    "        pr[\"gamma2 = gammas[2];\"];\n",
    "        pr[];\n",
    "        PrintEquations[{Mode -> \"Temp\"}, TempVarlist];\n",
    "        pr[];\n",
    "        PrintEquations[{Mode -> \"Main\"}, dtEvolVarlist];\n",
    "        pr[\"} /* end of points */\"];\n",
    "        pr[];\n",
    "        pr[\"TIMER_STOP;\"];\n",
    "        pr[];\n",
    "        pr[\"return 0;\"];\n",
    "        pr[\"} /* end of function */\"];\n",
    "    ];"
   ]
  },
  {
   "cell_type": "code",
   "execution_count": 31,
   "id": "d5bc1555-b316-44a3-9bd5-5a031ba63f98",
   "metadata": {},
   "outputs": [
    {
     "name": "stdout",
     "output_type": "stream",
     "text": [
      "Writing to \"GHG_rhs.c\"...\n",
      "\n",
      "Done generating \"GHG_rhs.c\"\n",
      "\n"
     ]
    }
   ],
   "source": [
    "<<../../codes/Nmesh.wl"
   ]
  }
 ],
 "metadata": {
  "kernelspec": {
   "display_name": "Wolfram Language 14.1",
   "language": "Wolfram Language",
   "name": "wolframlanguage14.1"
  },
  "language_info": {
   "codemirror_mode": "mathematica",
   "file_extension": ".m",
   "mimetype": "application/vnd.wolfram.m",
   "name": "Wolfram Language",
   "pygments_lexer": "mathematica",
   "version": "12.0"
  }
 },
 "nbformat": 4,
 "nbformat_minor": 5
}
